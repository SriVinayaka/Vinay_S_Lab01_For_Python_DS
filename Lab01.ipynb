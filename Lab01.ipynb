{
 "cells": [
  {
   "metadata": {},
   "cell_type": "markdown",
   "source": "### Lab 01 - Assignment - By - Vinay S",
   "id": "69e74aeecdcab237"
  },
  {
   "metadata": {},
   "cell_type": "markdown",
   "source": "### Q1",
   "id": "bc7a30960c4dcc37"
  },
  {
   "metadata": {},
   "cell_type": "markdown",
   "source": "### Load Required Libraries",
   "id": "f4eb08cb1bb3885d"
  },
  {
   "metadata": {
    "ExecuteTime": {
     "end_time": "2024-09-22T11:57:06.326744Z",
     "start_time": "2024-09-22T11:57:06.322325Z"
    }
   },
   "cell_type": "code",
   "source": [
    "import mysql.connector\n",
    "import pandas as pd\n",
    "from streamlit import columns\n"
   ],
   "id": "7c96e59328cb4a18",
   "outputs": [],
   "execution_count": 50
  },
  {
   "metadata": {},
   "cell_type": "markdown",
   "source": "### Connect to DB using Mysql-connector-python package\n",
   "id": "b1ecce26d2c80744"
  },
  {
   "metadata": {
    "ExecuteTime": {
     "end_time": "2024-09-22T11:57:06.356711Z",
     "start_time": "2024-09-22T11:57:06.348340Z"
    }
   },
   "cell_type": "code",
   "source": [
    "# Establish a connection to the database\n",
    "connection = mysql.connector.connect(\n",
    "    host='localhost',        # e.g., 'localhost'\n",
    "    user='root',    # e.g., 'root'\n",
    "    password='',# e.g., 'password'\n",
    "    #database='e_commerce' # e.g., 'test_db'\n",
    ")\n"
   ],
   "id": "7c511f390f118965",
   "outputs": [],
   "execution_count": 51
  },
  {
   "metadata": {
    "ExecuteTime": {
     "end_time": "2024-09-22T11:57:06.372666Z",
     "start_time": "2024-09-22T11:57:06.368029Z"
    }
   },
   "cell_type": "code",
   "source": "db_name = 'e_commerce'\n",
   "id": "dd746e2c8c26c8d",
   "outputs": [],
   "execution_count": 52
  },
  {
   "metadata": {
    "ExecuteTime": {
     "end_time": "2024-09-22T11:57:06.389208Z",
     "start_time": "2024-09-22T11:57:06.384643Z"
    }
   },
   "cell_type": "code",
   "source": [
    "#############\n",
    "# Drop the DB\n",
    "\n",
    "myquery = f\"\"\"DROP DATABASE IF EXISTS {db_name};\"\"\""
   ],
   "id": "3ae280763b7144a6",
   "outputs": [],
   "execution_count": 53
  },
  {
   "metadata": {
    "ExecuteTime": {
     "end_time": "2024-09-22T11:57:06.416817Z",
     "start_time": "2024-09-22T11:57:06.412442Z"
    }
   },
   "cell_type": "code",
   "source": "cursor = connection.cursor()\n",
   "id": "40042d141673efa",
   "outputs": [],
   "execution_count": 54
  },
  {
   "metadata": {
    "ExecuteTime": {
     "end_time": "2024-09-22T11:57:06.432170Z",
     "start_time": "2024-09-22T11:57:06.427152Z"
    }
   },
   "cell_type": "code",
   "source": "cursor.execute(myquery)",
   "id": "c634d78cad3d2cf3",
   "outputs": [],
   "execution_count": 55
  },
  {
   "metadata": {
    "ExecuteTime": {
     "end_time": "2024-09-22T11:57:06.451746Z",
     "start_time": "2024-09-22T11:57:06.444811Z"
    }
   },
   "cell_type": "code",
   "source": [
    "connection.commit()\n",
    "cursor.close()"
   ],
   "id": "a886e90814f1cbee",
   "outputs": [
    {
     "data": {
      "text/plain": [
       "True"
      ]
     },
     "execution_count": 56,
     "metadata": {},
     "output_type": "execute_result"
    }
   ],
   "execution_count": 56
  },
  {
   "metadata": {
    "ExecuteTime": {
     "end_time": "2024-09-22T11:57:06.508688Z",
     "start_time": "2024-09-22T11:57:06.504161Z"
    }
   },
   "cell_type": "code",
   "source": "connection.close()",
   "id": "f5a3e4773138a333",
   "outputs": [],
   "execution_count": 57
  },
  {
   "metadata": {
    "ExecuteTime": {
     "end_time": "2024-09-22T11:57:06.527155Z",
     "start_time": "2024-09-22T11:57:06.520711Z"
    }
   },
   "cell_type": "code",
   "source": [
    "# Establish a connection to the database\n",
    "connection = mysql.connector.connect(\n",
    "    host='localhost',        # e.g., 'localhost'\n",
    "    user='root',    # e.g., 'root'\n",
    "    password='',# e.g., 'password'\n",
    "    #database='e_commerce' # e.g., 'test_db'\n",
    ")\n"
   ],
   "id": "22cd9b73bb09ea27",
   "outputs": [],
   "execution_count": 58
  },
  {
   "metadata": {
    "ExecuteTime": {
     "end_time": "2024-09-22T11:57:06.541739Z",
     "start_time": "2024-09-22T11:57:06.536999Z"
    }
   },
   "cell_type": "code",
   "source": "db_name = 'e_commerce'\n",
   "id": "75728faa469b4e57",
   "outputs": [],
   "execution_count": 59
  },
  {
   "metadata": {
    "ExecuteTime": {
     "end_time": "2024-09-22T11:57:06.557340Z",
     "start_time": "2024-09-22T11:57:06.552798Z"
    }
   },
   "cell_type": "code",
   "source": "myquery = f\"\"\"CREATE DATABASE IF NOT EXISTS {db_name}\"\"\"",
   "id": "76f4b77a01d456cc",
   "outputs": [],
   "execution_count": 60
  },
  {
   "metadata": {
    "ExecuteTime": {
     "end_time": "2024-09-22T11:57:06.573969Z",
     "start_time": "2024-09-22T11:57:06.568432Z"
    }
   },
   "cell_type": "code",
   "source": [
    "cursor = connection.cursor()\n",
    "cursor.execute(myquery)\n"
   ],
   "id": "57848e4cf3ac64e",
   "outputs": [],
   "execution_count": 61
  },
  {
   "metadata": {
    "ExecuteTime": {
     "end_time": "2024-09-22T11:57:06.606222Z",
     "start_time": "2024-09-22T11:57:06.599163Z"
    }
   },
   "cell_type": "code",
   "source": [
    "connection.commit()\n",
    "cursor.close()"
   ],
   "id": "7c4b6f9dd95425c",
   "outputs": [
    {
     "data": {
      "text/plain": [
       "True"
      ]
     },
     "execution_count": 62,
     "metadata": {},
     "output_type": "execute_result"
    }
   ],
   "execution_count": 62
  },
  {
   "metadata": {
    "ExecuteTime": {
     "end_time": "2024-09-22T11:57:06.715462Z",
     "start_time": "2024-09-22T11:57:06.710537Z"
    }
   },
   "cell_type": "code",
   "source": "connection.close()\n",
   "id": "995aa7ae727c3f80",
   "outputs": [],
   "execution_count": 63
  },
  {
   "metadata": {
    "ExecuteTime": {
     "end_time": "2024-09-22T11:57:06.736945Z",
     "start_time": "2024-09-22T11:57:06.730668Z"
    }
   },
   "cell_type": "code",
   "source": [
    "db_name = 'e_commerce'\n",
    "\n",
    "# Establish a connection to the database\n",
    "connection = mysql.connector.connect(\n",
    "    host='localhost',        # e.g., 'localhost'\n",
    "    user='root',    # e.g., 'root'\n",
    "    password='',# e.g., 'password'\n",
    "    database=db_name # e.g., 'test_db'\n",
    ")"
   ],
   "id": "66bd0ba793dbf8ab",
   "outputs": [],
   "execution_count": 64
  },
  {
   "metadata": {
    "ExecuteTime": {
     "end_time": "2024-09-22T12:40:11.000624Z",
     "start_time": "2024-09-22T12:40:10.995739Z"
    }
   },
   "cell_type": "code",
   "source": [
    "myquery = \"\"\"\n",
    "    CREATE TABLE supplier (\n",
    "        SUPP_ID INT PRIMARY KEY,\n",
    "        SUPP_NAME VARCHAR(50),\n",
    "        SUPP_CITY VARCHAR(50),\n",
    "        SUPP_PHONE VARCHAR(10)\n",
    "    );\n",
    "    \n",
    "    CREATE TABLE customer (\n",
    "        CUS_ID INT NOT NULL,\n",
    "        CUS_NAME VARCHAR(20) NULL DEFAULT NULL,\n",
    "        CUS_PHONE VARCHAR(10),\n",
    "        CUS_CITY VARCHAR(30),\n",
    "        CUS_GENDER CHAR,\n",
    "        PRIMARY KEY (CUS_ID)\n",
    "    );\n",
    "    \n",
    "    CREATE TABLE category (\n",
    "        CAT_ID INT NOT NULL,\n",
    "        CAT_NAME VARCHAR(20) NULL DEFAULT NULL,\n",
    "        PRIMARY KEY (CAT_ID)\n",
    "    );\n",
    "    \n",
    "    CREATE TABLE product (\n",
    "        PRO_ID INT NOT NULL,\n",
    "        PRO_NAME VARCHAR(20) NULL DEFAULT NULL,\n",
    "        PRO_DESC VARCHAR(60) NULL DEFAULT NULL,\n",
    "        CAT_ID INT NOT NULL,\n",
    "        PRIMARY KEY (PRO_ID),\n",
    "        FOREIGN KEY (CAT_ID) REFERENCES category (CAT_ID)\n",
    "    );\n",
    "    \n",
    "    CREATE TABLE product_details (\n",
    "        PROD_ID INT NOT NULL,\n",
    "        PRO_ID INT NOT NULL,\n",
    "        SUPP_ID INT NOT NULL,\n",
    "        PROD_PRICE INT NOT NULL,\n",
    "        PRIMARY KEY (PROD_ID),\n",
    "        FOREIGN KEY (PRO_ID) REFERENCES product (PRO_ID),\n",
    "        FOREIGN KEY (SUPP_ID) REFERENCES supplier (SUPP_ID)\n",
    "    );\n",
    "    \n",
    "    CREATE TABLE orders (\n",
    "        ORD_ID INT NOT NULL,\n",
    "        ORD_AMOUNT INT NOT NULL,\n",
    "        ORD_DATE DATE,\n",
    "        CUS_ID INT NOT NULL,\n",
    "        PROD_ID INT NOT NULL,\n",
    "        PRIMARY KEY (ORD_ID),\n",
    "        FOREIGN KEY (CUS_ID) REFERENCES customer (CUS_ID),\n",
    "        FOREIGN KEY (PROD_ID) REFERENCES product_details (PROD_ID)\n",
    "    );\n",
    "    \n",
    "    CREATE TABLE rating (\n",
    "        RAT_ID INT NOT NULL,\n",
    "        CUS_ID INT NOT NULL,\n",
    "        SUPP_ID INT NOT NULL,\n",
    "        RAT_RATSTARS INT NOT NULL,\n",
    "        PRIMARY KEY (RAT_ID),\n",
    "        FOREIGN KEY (SUPP_ID) REFERENCES supplier (SUPP_ID),\n",
    "        FOREIGN KEY (CUS_ID) REFERENCES customer (CUS_ID)\n",
    "    );\n",
    "\"\"\"\n"
   ],
   "id": "f8006b017d7fb6a7",
   "outputs": [],
   "execution_count": 65
  },
  {
   "metadata": {
    "ExecuteTime": {
     "end_time": "2024-09-22T12:40:20.070470Z",
     "start_time": "2024-09-22T12:40:20.064401Z"
    }
   },
   "cell_type": "code",
   "source": "cursor = connection.cursor()\n",
   "id": "b9947a9bd52943d7",
   "outputs": [],
   "execution_count": 66
  },
  {
   "metadata": {
    "ExecuteTime": {
     "end_time": "2024-09-22T12:40:25.181678Z",
     "start_time": "2024-09-22T12:40:24.492144Z"
    }
   },
   "cell_type": "code",
   "source": "cursor.execute(myquery)\n",
   "id": "9c581c9df4cfa223",
   "outputs": [],
   "execution_count": 67
  },
  {
   "metadata": {
    "ExecuteTime": {
     "end_time": "2024-09-22T12:42:37.975306Z",
     "start_time": "2024-09-22T12:42:37.969648Z"
    }
   },
   "cell_type": "code",
   "source": [
    "#connection.commit()\n",
    "cursor.close()\n",
    "connection.close()\n"
   ],
   "id": "d86a2672ca86ef4d",
   "outputs": [],
   "execution_count": 69
  },
  {
   "metadata": {},
   "cell_type": "code",
   "outputs": [],
   "execution_count": null,
   "source": "",
   "id": "a77294329fa6e9ac"
  },
  {
   "metadata": {},
   "cell_type": "markdown",
   "source": "### Q2",
   "id": "e8e98a67ba1d676"
  },
  {
   "metadata": {},
   "cell_type": "code",
   "outputs": [],
   "execution_count": null,
   "source": "### Inserting Values into Supplier Table",
   "id": "de8d47e02dca5d0c"
  },
  {
   "metadata": {
    "ExecuteTime": {
     "end_time": "2024-09-22T12:53:21.165179Z",
     "start_time": "2024-09-22T12:53:21.157284Z"
    }
   },
   "cell_type": "code",
   "source": [
    "db_name = 'e_commerce'\n",
    "\n",
    "# Establish a connection to the database\n",
    "connection = mysql.connector.connect(\n",
    "    host='localhost',        # e.g., 'localhost'\n",
    "    user='root',    # e.g., 'root'\n",
    "    password='',# e.g., 'password'\n",
    "    database=db_name # e.g., 'test_db'\n",
    ")\n"
   ],
   "id": "910685674b10a407",
   "outputs": [],
   "execution_count": 72
  },
  {
   "metadata": {
    "ExecuteTime": {
     "end_time": "2024-09-22T12:53:24.197472Z",
     "start_time": "2024-09-22T12:53:24.193616Z"
    }
   },
   "cell_type": "code",
   "source": [
    "myquery = \"\"\"\n",
    "INSERT INTO supplier (SUPP_ID, SUPP_NAME, SUPP_CITY, SUPP_PHONE) VALUES\n",
    "(1, 'Rajesh Retails', 'Delhi', '1234567890'),\n",
    "(2, 'Appario Ltd.', 'Mumbai', '258963147032'),\n",
    "(3, 'Knome products', 'Bangalore', '9785462315'),\n",
    "(4, 'Bansal Retails', 'Kochi', '8975463285'),\n",
    "(5, 'Mittal Ltd.', 'Lucknow', '7898456532');\n",
    "\"\"\"\n"
   ],
   "id": "aded0432ddf09030",
   "outputs": [],
   "execution_count": 73
  },
  {
   "metadata": {
    "ExecuteTime": {
     "end_time": "2024-09-22T12:53:29.887845Z",
     "start_time": "2024-09-22T12:53:29.880959Z"
    }
   },
   "cell_type": "code",
   "source": "cursor = connection.cursor()\n",
   "id": "e06ff3f625267843",
   "outputs": [],
   "execution_count": 74
  },
  {
   "metadata": {
    "ExecuteTime": {
     "end_time": "2024-09-22T12:53:33.795317Z",
     "start_time": "2024-09-22T12:53:33.208008Z"
    }
   },
   "cell_type": "code",
   "source": [
    "cursor.execute(myquery)\n",
    "connection.commit()\n"
   ],
   "id": "85572e8afbf4a1fd",
   "outputs": [],
   "execution_count": 75
  },
  {
   "metadata": {
    "ExecuteTime": {
     "end_time": "2024-09-22T12:53:36.853555Z",
     "start_time": "2024-09-22T12:53:36.848702Z"
    }
   },
   "cell_type": "code",
   "source": [
    "cursor.close()\n",
    "connection.close()\n"
   ],
   "id": "f3ec907e3f46d9f8",
   "outputs": [],
   "execution_count": 76
  },
  {
   "metadata": {},
   "cell_type": "code",
   "outputs": [],
   "execution_count": null,
   "source": "### Inserting Values into Customer Table",
   "id": "c284ce6f76f06806"
  },
  {
   "metadata": {
    "ExecuteTime": {
     "end_time": "2024-09-22T12:55:35.660204Z",
     "start_time": "2024-09-22T12:55:35.653378Z"
    }
   },
   "cell_type": "code",
   "source": [
    "db_name = 'e_commerce'\n",
    "\n",
    "# Establish a connection to the database\n",
    "connection = mysql.connector.connect(\n",
    "    host='localhost',        # e.g., 'localhost'\n",
    "    user='root',    # e.g., 'root'\n",
    "    password='',# e.g., 'password'\n",
    "    database=db_name # e.g., 'test_db'\n",
    ")\n"
   ],
   "id": "5a8645d9390f50d0",
   "outputs": [],
   "execution_count": 77
  },
  {
   "metadata": {
    "ExecuteTime": {
     "end_time": "2024-09-22T13:01:07.686150Z",
     "start_time": "2024-09-22T13:01:07.680627Z"
    }
   },
   "cell_type": "code",
   "source": [
    "myquery = \"\"\"\n",
    "INSERT INTO customer (CUS_ID, CUS_NAME, CUS_PHONE, CUS_CITY, CUS_GENDER) VALUES\n",
    "(1, 'AAKASH', 9999999999, 'DELHI', 'M'),\n",
    "(2, 'AMAN', 9785463215, 'NOIDA', 'M'),\n",
    "(3, 'NEHA', 9999999998, 'MUMBAI', 'F'),\n",
    "(4, 'MEGHA', 9994562399, 'KOLKATA', 'F'),\n",
    "(5, 'PULKIT', 7895999999, 'LUCKNOW', 'M');\n",
    "\"\"\""
   ],
   "id": "83b7b9599e908301",
   "outputs": [],
   "execution_count": 86
  },
  {
   "metadata": {
    "ExecuteTime": {
     "end_time": "2024-09-22T13:01:10.566783Z",
     "start_time": "2024-09-22T13:01:10.560794Z"
    }
   },
   "cell_type": "code",
   "source": "cursor = connection.cursor()\n",
   "id": "2fce2a5d14eeb4de",
   "outputs": [],
   "execution_count": 87
  },
  {
   "metadata": {
    "ExecuteTime": {
     "end_time": "2024-09-22T13:01:14.476734Z",
     "start_time": "2024-09-22T13:01:13.782738Z"
    }
   },
   "cell_type": "code",
   "source": [
    "cursor.execute(myquery)\n",
    "connection.commit()\n"
   ],
   "id": "472bca329eaadaa4",
   "outputs": [],
   "execution_count": 88
  },
  {
   "metadata": {
    "ExecuteTime": {
     "end_time": "2024-09-22T13:01:18.376812Z",
     "start_time": "2024-09-22T13:01:18.372756Z"
    }
   },
   "cell_type": "code",
   "source": [
    "cursor.close()\n",
    "connection.close()\n"
   ],
   "id": "ebfc2f50dcb597f3",
   "outputs": [],
   "execution_count": 89
  },
  {
   "metadata": {},
   "cell_type": "code",
   "outputs": [],
   "execution_count": null,
   "source": "### Inserting Values into Category Table",
   "id": "270c22565cc3aa1f"
  },
  {
   "metadata": {
    "ExecuteTime": {
     "end_time": "2024-09-22T13:05:27.444104Z",
     "start_time": "2024-09-22T13:05:27.437056Z"
    }
   },
   "cell_type": "code",
   "source": [
    "db_name = 'e_commerce'\n",
    "\n",
    "# Establish a connection to the database\n",
    "connection = mysql.connector.connect(\n",
    "    host='localhost',        # e.g., 'localhost'\n",
    "    user='root',    # e.g., 'root'\n",
    "    password='',# e.g., 'password'\n",
    "    database=db_name # e.g., 'test_db'\n",
    ")\n"
   ],
   "id": "2fa8a68a6e3d8c2b",
   "outputs": [],
   "execution_count": 90
  },
  {
   "metadata": {
    "ExecuteTime": {
     "end_time": "2024-09-22T13:05:37.069982Z",
     "start_time": "2024-09-22T13:05:37.065822Z"
    }
   },
   "cell_type": "code",
   "source": [
    "myquery = \"\"\"\n",
    "INSERT INTO category (CAT_ID, CAT_NAME) VALUES\n",
    "(1, 'BOOKS'),\n",
    "(2, 'GAMES'),\n",
    "(3, 'GROCERIES'),\n",
    "(4, 'ELECTRONICS'),\n",
    "(5, 'CLOTHES');\n",
    "\"\"\"\n"
   ],
   "id": "4806e2aacfc73452",
   "outputs": [],
   "execution_count": 91
  },
  {
   "metadata": {
    "ExecuteTime": {
     "end_time": "2024-09-22T13:06:16.174180Z",
     "start_time": "2024-09-22T13:06:16.169139Z"
    }
   },
   "cell_type": "code",
   "source": "cursor = connection.cursor()\n",
   "id": "7616ec8b047f2a49",
   "outputs": [],
   "execution_count": 92
  },
  {
   "metadata": {
    "ExecuteTime": {
     "end_time": "2024-09-22T13:06:18.619936Z",
     "start_time": "2024-09-22T13:06:18.458269Z"
    }
   },
   "cell_type": "code",
   "source": [
    "cursor.execute(myquery)\n",
    "connection.commit()\n"
   ],
   "id": "d0d9cd4ce149969a",
   "outputs": [],
   "execution_count": 93
  },
  {
   "metadata": {
    "ExecuteTime": {
     "end_time": "2024-09-22T13:06:52.667528Z",
     "start_time": "2024-09-22T13:06:52.662780Z"
    }
   },
   "cell_type": "code",
   "source": [
    "cursor.close()\n",
    "connection.close()\n"
   ],
   "id": "8936354f0cf57b8f",
   "outputs": [],
   "execution_count": 94
  },
  {
   "metadata": {},
   "cell_type": "code",
   "outputs": [],
   "execution_count": null,
   "source": "### Inserting Values into Product Table",
   "id": "bb262e807c84bf82"
  },
  {
   "metadata": {
    "ExecuteTime": {
     "end_time": "2024-09-22T13:11:46.701253Z",
     "start_time": "2024-09-22T13:11:46.694772Z"
    }
   },
   "cell_type": "code",
   "source": [
    "db_name = 'e_commerce'\n",
    "\n",
    "# Establish a connection to the database\n",
    "connection = mysql.connector.connect(\n",
    "    host='localhost',        # e.g., 'localhost'\n",
    "    user='root',    # e.g., 'root'\n",
    "    password='',# e.g., 'password'\n",
    "    database=db_name # e.g., 'test_db'\n",
    ")\n"
   ],
   "id": "66d0406e5998f2c",
   "outputs": [],
   "execution_count": 95
  },
  {
   "metadata": {
    "ExecuteTime": {
     "end_time": "2024-09-22T13:11:49.973116Z",
     "start_time": "2024-09-22T13:11:49.967077Z"
    }
   },
   "cell_type": "code",
   "source": [
    "myquery = \"\"\"\n",
    "INSERT INTO product (PRO_ID, PRO_NAME, PRO_DESC, CAT_ID) VALUES\n",
    "(1, 'GTA V', 'DFJDJFDJFDJFDJFJF', 2),\n",
    "(2, 'TSHIRT', 'DFDFJDFJDKFD', 5),\n",
    "(3, 'ROG LAPTOP', 'DFNTTNTNTERND', 4),\n",
    "(4, 'OATS', 'REURENTBTOTH', 3),\n",
    "(5, 'HARRY POTTER', 'NBEMCTHTJTH', 1);\n",
    "\"\"\"\n"
   ],
   "id": "8c67640d58d52a27",
   "outputs": [],
   "execution_count": 96
  },
  {
   "metadata": {
    "ExecuteTime": {
     "end_time": "2024-09-22T13:12:16.923842Z",
     "start_time": "2024-09-22T13:12:16.918432Z"
    }
   },
   "cell_type": "code",
   "source": "cursor = connection.cursor()\n",
   "id": "a2f86b700c68c7a7",
   "outputs": [],
   "execution_count": 98
  },
  {
   "metadata": {
    "ExecuteTime": {
     "end_time": "2024-09-22T13:12:22.017915Z",
     "start_time": "2024-09-22T13:12:21.410277Z"
    }
   },
   "cell_type": "code",
   "source": [
    "cursor.execute(myquery)\n",
    "connection.commit()\n"
   ],
   "id": "d10719832da385bb",
   "outputs": [],
   "execution_count": 99
  },
  {
   "metadata": {
    "ExecuteTime": {
     "end_time": "2024-09-22T13:12:30.347430Z",
     "start_time": "2024-09-22T13:12:30.341891Z"
    }
   },
   "cell_type": "code",
   "source": [
    "cursor.close()\n",
    "connection.close()\n"
   ],
   "id": "49179fad29f646b9",
   "outputs": [],
   "execution_count": 100
  },
  {
   "metadata": {},
   "cell_type": "code",
   "outputs": [],
   "execution_count": null,
   "source": "### Inserting Values into Product_Details Table",
   "id": "9f9e1ee4b192aa52"
  },
  {
   "metadata": {
    "ExecuteTime": {
     "end_time": "2024-09-22T13:18:28.555908Z",
     "start_time": "2024-09-22T13:18:28.547182Z"
    }
   },
   "cell_type": "code",
   "source": [
    "db_name = 'e_commerce'\n",
    "\n",
    "# Establish a connection to the database\n",
    "connection = mysql.connector.connect(\n",
    "    host='localhost',        # e.g., 'localhost'\n",
    "    user='root',    # e.g., 'root'\n",
    "    password='',# e.g., 'password'\n",
    "    database=db_name # e.g., 'test_db'\n",
    ")\n"
   ],
   "id": "7940dba7fee07154",
   "outputs": [],
   "execution_count": 101
  },
  {
   "metadata": {
    "ExecuteTime": {
     "end_time": "2024-09-22T13:18:31.358499Z",
     "start_time": "2024-09-22T13:18:31.354490Z"
    }
   },
   "cell_type": "code",
   "source": [
    "myquery=\"\"\"\n",
    "INSERT INTO product_details (PROD_ID, PRO_ID, SUPP_ID, PROD_PRICE) VALUES\n",
    "(1, 1, 2, 1500),\n",
    "(2, 3, 5, 30000),\n",
    "(3, 5, 1, 3000),\n",
    "(4, 2, 3, 2500),\n",
    "(5, 4, 1, 1000);\n",
    "\"\"\"\n"
   ],
   "id": "3f3d339f3715a54b",
   "outputs": [],
   "execution_count": 103
  },
  {
   "metadata": {
    "ExecuteTime": {
     "end_time": "2024-09-22T13:18:34.653750Z",
     "start_time": "2024-09-22T13:18:34.648901Z"
    }
   },
   "cell_type": "code",
   "source": "cursor = connection.cursor()\n",
   "id": "dbd731bac4826102",
   "outputs": [],
   "execution_count": 104
  },
  {
   "metadata": {
    "ExecuteTime": {
     "end_time": "2024-09-22T13:18:37.116120Z",
     "start_time": "2024-09-22T13:18:36.563900Z"
    }
   },
   "cell_type": "code",
   "source": [
    "cursor.execute(myquery)\n",
    "connection.commit()\n"
   ],
   "id": "d787b1d50bcaba79",
   "outputs": [],
   "execution_count": 105
  },
  {
   "metadata": {
    "ExecuteTime": {
     "end_time": "2024-09-22T13:18:40.444475Z",
     "start_time": "2024-09-22T13:18:40.439146Z"
    }
   },
   "cell_type": "code",
   "source": [
    "cursor.close()\n",
    "connection.close()\n"
   ],
   "id": "e3d5fb89be06293b",
   "outputs": [],
   "execution_count": 106
  },
  {
   "metadata": {},
   "cell_type": "code",
   "outputs": [],
   "execution_count": null,
   "source": "### Inserting Values into Orders Table",
   "id": "80fd353d8aca04ca"
  },
  {
   "metadata": {
    "ExecuteTime": {
     "end_time": "2024-09-22T13:32:07.085993Z",
     "start_time": "2024-09-22T13:32:07.078592Z"
    }
   },
   "cell_type": "code",
   "source": [
    "db_name = 'e_commerce'\n",
    "\n",
    "# Establish a connection to the database\n",
    "connection = mysql.connector.connect(\n",
    "    host='localhost',        # e.g., 'localhost'\n",
    "    user='root',    # e.g., 'root'\n",
    "    password='',# e.g., 'password'\n",
    "    database=db_name # e.g., 'test_db'\n",
    ")\n"
   ],
   "id": "cd955d3527c26c8d",
   "outputs": [],
   "execution_count": 107
  },
  {
   "metadata": {
    "ExecuteTime": {
     "end_time": "2024-09-22T13:32:09.849032Z",
     "start_time": "2024-09-22T13:32:09.844398Z"
    }
   },
   "cell_type": "code",
   "source": [
    "myquery = \"\"\"\n",
    "INSERT INTO orders (ORD_ID, ORD_AMOUNT, ORD_DATE, CUS_ID, PROD_ID) VALUES\n",
    "(20, 1500, '2021-10-12', 3, 5),\n",
    "(25, 30500, '2021-09-16', 5, 2),\n",
    "(26, 2000, '2021-10-05', 1, 1),\n",
    "(30, 3500, '2021-08-16', 4, 3),\n",
    "(50, 2000, '2021-10-06', 2, 1);\n",
    "\"\"\"\n"
   ],
   "id": "cd4bbe6db36666aa",
   "outputs": [],
   "execution_count": 108
  },
  {
   "metadata": {
    "ExecuteTime": {
     "end_time": "2024-09-22T13:32:30.362783Z",
     "start_time": "2024-09-22T13:32:30.358187Z"
    }
   },
   "cell_type": "code",
   "source": "cursor = connection.cursor()\n",
   "id": "6a50484592b43199",
   "outputs": [],
   "execution_count": 111
  },
  {
   "metadata": {
    "ExecuteTime": {
     "end_time": "2024-09-22T13:32:35.402199Z",
     "start_time": "2024-09-22T13:32:34.924176Z"
    }
   },
   "cell_type": "code",
   "source": [
    "cursor.execute(myquery)\n",
    "connection.commit()\n"
   ],
   "id": "d2139181ee90906c",
   "outputs": [],
   "execution_count": 112
  },
  {
   "metadata": {
    "ExecuteTime": {
     "end_time": "2024-09-22T13:32:40.695614Z",
     "start_time": "2024-09-22T13:32:40.691339Z"
    }
   },
   "cell_type": "code",
   "source": [
    "cursor.close()\n",
    "connection.close()\n"
   ],
   "id": "b2f9a2c7caa117f0",
   "outputs": [],
   "execution_count": 113
  },
  {
   "metadata": {},
   "cell_type": "code",
   "outputs": [],
   "execution_count": null,
   "source": "### Inserting Values into Rating Table",
   "id": "8caadb4429a8b785"
  },
  {
   "metadata": {
    "ExecuteTime": {
     "end_time": "2024-09-22T13:39:36.139569Z",
     "start_time": "2024-09-22T13:39:36.130642Z"
    }
   },
   "cell_type": "code",
   "source": [
    "db_name = 'e_commerce'\n",
    "\n",
    "# Establish a connection to the database\n",
    "connection = mysql.connector.connect(\n",
    "    host='localhost',        # e.g., 'localhost'\n",
    "    user='root',    # e.g., 'root'\n",
    "    password='',# e.g., 'password'\n",
    "    database=db_name # e.g., 'test_db'\n",
    ")\n"
   ],
   "id": "680af78f7fe9e4f2",
   "outputs": [],
   "execution_count": 114
  },
  {
   "metadata": {
    "ExecuteTime": {
     "end_time": "2024-09-22T13:39:45.908163Z",
     "start_time": "2024-09-22T13:39:45.902705Z"
    }
   },
   "cell_type": "code",
   "source": [
    "myquery = \"\"\"\n",
    "INSERT INTO rating (RAT_ID, CUS_ID, SUPP_ID, RAT_RATSTARS) VALUES\n",
    "(1, 2, 2, 4),\n",
    "(2, 3, 4, 3),\n",
    "(3, 5, 1, 5),\n",
    "(4, 1, 3, 2),\n",
    "(5, 4, 5, 4);\n",
    "\"\"\"\n"
   ],
   "id": "9914007e15b22f33",
   "outputs": [],
   "execution_count": 115
  },
  {
   "metadata": {
    "ExecuteTime": {
     "end_time": "2024-09-22T13:41:46.424276Z",
     "start_time": "2024-09-22T13:41:46.419680Z"
    }
   },
   "cell_type": "code",
   "source": "cursor = connection.cursor()\n",
   "id": "d4f397f6b2abd238",
   "outputs": [],
   "execution_count": 117
  },
  {
   "metadata": {
    "ExecuteTime": {
     "end_time": "2024-09-22T13:42:22.304529Z",
     "start_time": "2024-09-22T13:42:22.129560Z"
    }
   },
   "cell_type": "code",
   "source": [
    "cursor.execute(myquery)\n",
    "connection.commit()\n"
   ],
   "id": "a0eef6d13b2e2d75",
   "outputs": [],
   "execution_count": 118
  },
  {
   "metadata": {
    "ExecuteTime": {
     "end_time": "2024-09-22T13:42:31.160400Z",
     "start_time": "2024-09-22T13:42:31.155706Z"
    }
   },
   "cell_type": "code",
   "source": [
    "cursor.close()\n",
    "connection.close()\n"
   ],
   "id": "25f16bdc3ea6cd42",
   "outputs": [],
   "execution_count": 119
  },
  {
   "metadata": {},
   "cell_type": "code",
   "outputs": [],
   "execution_count": null,
   "source": "",
   "id": "12a37778de1c92af"
  },
  {
   "metadata": {},
   "cell_type": "markdown",
   "source": "### Q3",
   "id": "bd2eab70e7a9c8e8"
  },
  {
   "metadata": {},
   "cell_type": "code",
   "outputs": [],
   "execution_count": null,
   "source": "### Q3) Display the number of the customer group by their genders who have placed any order of amount greater than or equal to Rs.3000",
   "id": "26eb4c3efc0aef10"
  },
  {
   "metadata": {
    "ExecuteTime": {
     "end_time": "2024-09-22T13:53:37.956108Z",
     "start_time": "2024-09-22T13:53:37.949358Z"
    }
   },
   "cell_type": "code",
   "source": [
    "db_name = 'e_commerce'\n",
    "\n",
    "# Establish a connection to the database\n",
    "connection = mysql.connector.connect(\n",
    "    host='localhost',        # e.g., 'localhost'\n",
    "    user='root',    # e.g., 'root'\n",
    "    password='',# e.g., 'password'\n",
    "    database=db_name # e.g., 'test_db'\n",
    ")\n"
   ],
   "id": "5b08126d0d529586",
   "outputs": [],
   "execution_count": 120
  },
  {
   "metadata": {
    "ExecuteTime": {
     "end_time": "2024-09-22T13:54:14.344212Z",
     "start_time": "2024-09-22T13:54:14.339902Z"
    }
   },
   "cell_type": "code",
   "source": [
    "myquery = \"\"\"\n",
    "SELECT CUS_GENDER, COUNT(*) AS num_customers\n",
    "FROM customer\n",
    "JOIN orders ON customer.CUS_ID = orders.CUS_ID\n",
    "WHERE ORD_AMOUNT >= 3000\n",
    "GROUP BY CUS_GENDER;\n",
    "\"\"\"\n"
   ],
   "id": "13945cbcf83458d0",
   "outputs": [],
   "execution_count": 121
  },
  {
   "metadata": {
    "ExecuteTime": {
     "end_time": "2024-09-22T13:56:18.222521Z",
     "start_time": "2024-09-22T13:56:18.216940Z"
    }
   },
   "cell_type": "code",
   "source": "cursor = connection.cursor()\n",
   "id": "1c9d62aa7d1a842a",
   "outputs": [],
   "execution_count": 122
  },
  {
   "metadata": {
    "ExecuteTime": {
     "end_time": "2024-09-22T13:56:22.592198Z",
     "start_time": "2024-09-22T13:56:22.586316Z"
    }
   },
   "cell_type": "code",
   "source": "cursor.execute(myquery)\n",
   "id": "53f5e0b28c22d626",
   "outputs": [],
   "execution_count": 123
  },
  {
   "metadata": {
    "ExecuteTime": {
     "end_time": "2024-09-22T13:56:26.230004Z",
     "start_time": "2024-09-22T13:56:26.224724Z"
    }
   },
   "cell_type": "code",
   "source": "output = cursor.fetchall()\n",
   "id": "1e6a58a75f660d7e",
   "outputs": [],
   "execution_count": 124
  },
  {
   "metadata": {
    "ExecuteTime": {
     "end_time": "2024-09-22T13:59:49.268631Z",
     "start_time": "2024-09-22T13:59:49.263367Z"
    }
   },
   "cell_type": "code",
   "source": "df = pd.DataFrame(output, columns=['CUS_GENDER', 'num_customers'])\n",
   "id": "57790c1563f41a3f",
   "outputs": [],
   "execution_count": 127
  },
  {
   "metadata": {
    "ExecuteTime": {
     "end_time": "2024-09-22T13:59:52.479175Z",
     "start_time": "2024-09-22T13:59:52.469407Z"
    }
   },
   "cell_type": "code",
   "source": "df.head()\n",
   "id": "e26dc887570d39f9",
   "outputs": [
    {
     "data": {
      "text/plain": [
       "  CUS_GENDER  num_customers\n",
       "0          F              1\n",
       "1          M              1"
      ],
      "text/html": [
       "<div>\n",
       "<style scoped>\n",
       "    .dataframe tbody tr th:only-of-type {\n",
       "        vertical-align: middle;\n",
       "    }\n",
       "\n",
       "    .dataframe tbody tr th {\n",
       "        vertical-align: top;\n",
       "    }\n",
       "\n",
       "    .dataframe thead th {\n",
       "        text-align: right;\n",
       "    }\n",
       "</style>\n",
       "<table border=\"1\" class=\"dataframe\">\n",
       "  <thead>\n",
       "    <tr style=\"text-align: right;\">\n",
       "      <th></th>\n",
       "      <th>CUS_GENDER</th>\n",
       "      <th>num_customers</th>\n",
       "    </tr>\n",
       "  </thead>\n",
       "  <tbody>\n",
       "    <tr>\n",
       "      <th>0</th>\n",
       "      <td>F</td>\n",
       "      <td>1</td>\n",
       "    </tr>\n",
       "    <tr>\n",
       "      <th>1</th>\n",
       "      <td>M</td>\n",
       "      <td>1</td>\n",
       "    </tr>\n",
       "  </tbody>\n",
       "</table>\n",
       "</div>"
      ]
     },
     "execution_count": 128,
     "metadata": {},
     "output_type": "execute_result"
    }
   ],
   "execution_count": 128
  },
  {
   "metadata": {},
   "cell_type": "code",
   "outputs": [],
   "execution_count": null,
   "source": "",
   "id": "dfa943f362ef1534"
  },
  {
   "metadata": {},
   "cell_type": "markdown",
   "source": "### Q4",
   "id": "84a552e523ba95a3"
  },
  {
   "metadata": {},
   "cell_type": "code",
   "outputs": [],
   "execution_count": null,
   "source": "### Q4) Display all the order along with product name ordered by a customer having Customer_Id=2;\n",
   "id": "accc57a3ec8e3b32"
  },
  {
   "metadata": {
    "ExecuteTime": {
     "end_time": "2024-09-22T14:04:35.791284Z",
     "start_time": "2024-09-22T14:04:35.785810Z"
    }
   },
   "cell_type": "code",
   "source": [
    "myquery = \"\"\"\n",
    "SELECT orders.ORD_ID, orders.ORD_AMOUNT, orders.ORD_DATE, product.PRO_NAME\n",
    "FROM orders\n",
    "JOIN product_details ON orders.PROD_ID = product_details.PROD_ID\n",
    "JOIN product ON product_details.PRO_ID = product.PRO_ID\n",
    "WHERE orders.CUS_ID = 2;\n",
    "\"\"\"\n"
   ],
   "id": "b5c3006c0fb0c28e",
   "outputs": [],
   "execution_count": 130
  },
  {
   "metadata": {
    "ExecuteTime": {
     "end_time": "2024-09-22T14:04:38.507926Z",
     "start_time": "2024-09-22T14:04:38.500472Z"
    }
   },
   "cell_type": "code",
   "source": [
    "cursor = connection.cursor()\n",
    "cursor.execute(myquery)\n"
   ],
   "id": "267e21dee730c03a",
   "outputs": [],
   "execution_count": 131
  },
  {
   "metadata": {
    "ExecuteTime": {
     "end_time": "2024-09-22T14:04:40.438516Z",
     "start_time": "2024-09-22T14:04:40.433090Z"
    }
   },
   "cell_type": "code",
   "source": [
    "output = cursor.fetchall()\n",
    "print(output)\n"
   ],
   "id": "f2f98aa84bd3a2e2",
   "outputs": [
    {
     "name": "stdout",
     "output_type": "stream",
     "text": [
      "[(50, 2000, datetime.date(2021, 10, 6), 'GTA V')]\n"
     ]
    }
   ],
   "execution_count": 132
  },
  {
   "metadata": {
    "ExecuteTime": {
     "end_time": "2024-09-22T14:08:24.552807Z",
     "start_time": "2024-09-22T14:08:24.542332Z"
    }
   },
   "cell_type": "code",
   "source": [
    "df = pd.DataFrame(output, columns=['orders.ORD_ID', 'orders.ORD_AMOUNT', 'orders.ORD_DATE', 'product.PRO_NAME'])\n",
    "\n",
    "df.head()\n"
   ],
   "id": "2e8c9999ad7a3d89",
   "outputs": [
    {
     "data": {
      "text/plain": [
       "   orders.ORD_ID  orders.ORD_AMOUNT orders.ORD_DATE product.PRO_NAME\n",
       "0             50               2000      2021-10-06            GTA V"
      ],
      "text/html": [
       "<div>\n",
       "<style scoped>\n",
       "    .dataframe tbody tr th:only-of-type {\n",
       "        vertical-align: middle;\n",
       "    }\n",
       "\n",
       "    .dataframe tbody tr th {\n",
       "        vertical-align: top;\n",
       "    }\n",
       "\n",
       "    .dataframe thead th {\n",
       "        text-align: right;\n",
       "    }\n",
       "</style>\n",
       "<table border=\"1\" class=\"dataframe\">\n",
       "  <thead>\n",
       "    <tr style=\"text-align: right;\">\n",
       "      <th></th>\n",
       "      <th>orders.ORD_ID</th>\n",
       "      <th>orders.ORD_AMOUNT</th>\n",
       "      <th>orders.ORD_DATE</th>\n",
       "      <th>product.PRO_NAME</th>\n",
       "    </tr>\n",
       "  </thead>\n",
       "  <tbody>\n",
       "    <tr>\n",
       "      <th>0</th>\n",
       "      <td>50</td>\n",
       "      <td>2000</td>\n",
       "      <td>2021-10-06</td>\n",
       "      <td>GTA V</td>\n",
       "    </tr>\n",
       "  </tbody>\n",
       "</table>\n",
       "</div>"
      ]
     },
     "execution_count": 134,
     "metadata": {},
     "output_type": "execute_result"
    }
   ],
   "execution_count": 134
  },
  {
   "metadata": {
    "ExecuteTime": {
     "end_time": "2024-09-22T14:11:17.647655Z",
     "start_time": "2024-09-22T14:11:17.642468Z"
    }
   },
   "cell_type": "code",
   "source": [
    "### Alternative Query as provided by Faculty\n",
    "myquery = \"\"\"\n",
    "select `orders`.*, product.pro_name \n",
    "from `orders` ,product_details,product \n",
    "where `orders`.cus_id=2 and `orders`.prod_id=product_details.prod_id and product_details.pro_id=product.pro_id;\n",
    "\"\"\"\n"
   ],
   "id": "56252b047cc2586b",
   "outputs": [],
   "execution_count": 135
  },
  {
   "metadata": {
    "ExecuteTime": {
     "end_time": "2024-09-22T14:11:20.342375Z",
     "start_time": "2024-09-22T14:11:20.336997Z"
    }
   },
   "cell_type": "code",
   "source": [
    "cursor = connection.cursor()\n",
    "cursor.execute(myquery)\n",
    "output = cursor.fetchall()\n"
   ],
   "id": "55d504670533e54b",
   "outputs": [],
   "execution_count": 136
  },
  {
   "metadata": {
    "ExecuteTime": {
     "end_time": "2024-09-22T14:11:52.535131Z",
     "start_time": "2024-09-22T14:11:52.530709Z"
    }
   },
   "cell_type": "code",
   "source": "print(output)\n",
   "id": "d2c81e9f4dde954c",
   "outputs": [
    {
     "name": "stdout",
     "output_type": "stream",
     "text": [
      "[(50, 2000, datetime.date(2021, 10, 6), 2, 1, 'GTA V')]\n"
     ]
    }
   ],
   "execution_count": 137
  },
  {
   "metadata": {
    "ExecuteTime": {
     "end_time": "2024-09-22T14:16:49.669777Z",
     "start_time": "2024-09-22T14:16:49.651723Z"
    }
   },
   "cell_type": "code",
   "source": [
    "df = pd.DataFrame(output, columns=['orders.ORD_ID', 'orders.ORD_AMOUNT', 'orders.ORD_DATE', \"product.cust_id\", 'product.prod_id', 'product.pro_name'])\n",
    "df.head()\n"
   ],
   "id": "4b5f1e8f1a62af3",
   "outputs": [
    {
     "data": {
      "text/plain": [
       "   orders.ORD_ID  orders.ORD_AMOUNT orders.ORD_DATE  product.cust_id  \\\n",
       "0             50               2000      2021-10-06                2   \n",
       "\n",
       "   product.prod_id product.pro_name  \n",
       "0                1            GTA V  "
      ],
      "text/html": [
       "<div>\n",
       "<style scoped>\n",
       "    .dataframe tbody tr th:only-of-type {\n",
       "        vertical-align: middle;\n",
       "    }\n",
       "\n",
       "    .dataframe tbody tr th {\n",
       "        vertical-align: top;\n",
       "    }\n",
       "\n",
       "    .dataframe thead th {\n",
       "        text-align: right;\n",
       "    }\n",
       "</style>\n",
       "<table border=\"1\" class=\"dataframe\">\n",
       "  <thead>\n",
       "    <tr style=\"text-align: right;\">\n",
       "      <th></th>\n",
       "      <th>orders.ORD_ID</th>\n",
       "      <th>orders.ORD_AMOUNT</th>\n",
       "      <th>orders.ORD_DATE</th>\n",
       "      <th>product.cust_id</th>\n",
       "      <th>product.prod_id</th>\n",
       "      <th>product.pro_name</th>\n",
       "    </tr>\n",
       "  </thead>\n",
       "  <tbody>\n",
       "    <tr>\n",
       "      <th>0</th>\n",
       "      <td>50</td>\n",
       "      <td>2000</td>\n",
       "      <td>2021-10-06</td>\n",
       "      <td>2</td>\n",
       "      <td>1</td>\n",
       "      <td>GTA V</td>\n",
       "    </tr>\n",
       "  </tbody>\n",
       "</table>\n",
       "</div>"
      ]
     },
     "execution_count": 139,
     "metadata": {},
     "output_type": "execute_result"
    }
   ],
   "execution_count": 139
  },
  {
   "metadata": {},
   "cell_type": "code",
   "outputs": [],
   "execution_count": null,
   "source": "",
   "id": "ff4a65c1605920f1"
  },
  {
   "metadata": {},
   "cell_type": "markdown",
   "source": "### Q5\n",
   "id": "5eb4efbd97109bb1"
  },
  {
   "metadata": {},
   "cell_type": "code",
   "outputs": [],
   "execution_count": null,
   "source": "### Q5) Display the Supplier details who can supply more than one product.\n",
   "id": "4e45e355fd50e476"
  },
  {
   "metadata": {
    "ExecuteTime": {
     "end_time": "2024-09-22T14:20:27.045226Z",
     "start_time": "2024-09-22T14:20:27.039773Z"
    }
   },
   "cell_type": "code",
   "source": [
    "myquery = \"\"\"\n",
    "SELECT SUPP_ID, SUPP_NAME\n",
    "FROM supplier\n",
    "WHERE SUPP_ID IN (\n",
    "    SELECT SUPP_ID\n",
    "    FROM product_details\n",
    "    GROUP BY SUPP_ID\n",
    "    HAVING COUNT(*) > 1\n",
    ");\n",
    "\"\"\"\n"
   ],
   "id": "8a55372161709650",
   "outputs": [],
   "execution_count": 140
  },
  {
   "metadata": {
    "ExecuteTime": {
     "end_time": "2024-09-22T14:20:32.811456Z",
     "start_time": "2024-09-22T14:20:32.801465Z"
    }
   },
   "cell_type": "code",
   "source": [
    "cursor = connection.cursor()\n",
    "cursor.execute(myquery)\n",
    "output = cursor.fetchall()\n"
   ],
   "id": "f36cb5fa4e86921e",
   "outputs": [],
   "execution_count": 141
  },
  {
   "metadata": {
    "ExecuteTime": {
     "end_time": "2024-09-22T14:21:07.629750Z",
     "start_time": "2024-09-22T14:21:07.622321Z"
    }
   },
   "cell_type": "code",
   "source": "print(output)\n",
   "id": "1184cd90810c1512",
   "outputs": [
    {
     "name": "stdout",
     "output_type": "stream",
     "text": [
      "[(1, 'Rajesh Retails')]\n"
     ]
    }
   ],
   "execution_count": 143
  },
  {
   "metadata": {
    "ExecuteTime": {
     "end_time": "2024-09-22T14:21:51.453785Z",
     "start_time": "2024-09-22T14:21:51.441437Z"
    }
   },
   "cell_type": "code",
   "source": [
    "df = pd.DataFrame(output, columns=['SUPP_ID', 'SUPP_NAME'])\n",
    "df.head()\n"
   ],
   "id": "83b6b9adcac73f60",
   "outputs": [
    {
     "data": {
      "text/plain": [
       "   SUPP_ID       SUPP_NAME\n",
       "0        1  Rajesh Retails"
      ],
      "text/html": [
       "<div>\n",
       "<style scoped>\n",
       "    .dataframe tbody tr th:only-of-type {\n",
       "        vertical-align: middle;\n",
       "    }\n",
       "\n",
       "    .dataframe tbody tr th {\n",
       "        vertical-align: top;\n",
       "    }\n",
       "\n",
       "    .dataframe thead th {\n",
       "        text-align: right;\n",
       "    }\n",
       "</style>\n",
       "<table border=\"1\" class=\"dataframe\">\n",
       "  <thead>\n",
       "    <tr style=\"text-align: right;\">\n",
       "      <th></th>\n",
       "      <th>SUPP_ID</th>\n",
       "      <th>SUPP_NAME</th>\n",
       "    </tr>\n",
       "  </thead>\n",
       "  <tbody>\n",
       "    <tr>\n",
       "      <th>0</th>\n",
       "      <td>1</td>\n",
       "      <td>Rajesh Retails</td>\n",
       "    </tr>\n",
       "  </tbody>\n",
       "</table>\n",
       "</div>"
      ]
     },
     "execution_count": 144,
     "metadata": {},
     "output_type": "execute_result"
    }
   ],
   "execution_count": 144
  },
  {
   "metadata": {
    "ExecuteTime": {
     "end_time": "2024-09-22T14:24:33.289597Z",
     "start_time": "2024-09-22T14:24:33.281249Z"
    }
   },
   "cell_type": "code",
   "source": [
    "# Alternative Query provided by the Faculty\n",
    "myquery = \"\"\"\n",
    "select supplier.* \n",
    "from supplier,product_details \n",
    "where supplier.supp_id in \n",
    "(select product_details.supp_id from product_details \n",
    "group by product_details.supp_id having count(product_details.supp_id)>1) \n",
    "group by supplier.supp_id;\n",
    "\"\"\"\n"
   ],
   "id": "1ee7ada259dfdef6",
   "outputs": [],
   "execution_count": 145
  },
  {
   "metadata": {
    "ExecuteTime": {
     "end_time": "2024-09-22T14:24:35.102697Z",
     "start_time": "2024-09-22T14:24:35.092660Z"
    }
   },
   "cell_type": "code",
   "source": [
    "cursor = connection.cursor()\n",
    "cursor.execute(myquery)\n",
    "output = cursor.fetchall()\n"
   ],
   "id": "20db0ad1d009c315",
   "outputs": [],
   "execution_count": 146
  },
  {
   "metadata": {
    "ExecuteTime": {
     "end_time": "2024-09-22T14:24:56.340395Z",
     "start_time": "2024-09-22T14:24:56.332113Z"
    }
   },
   "cell_type": "code",
   "source": "print(output)\n",
   "id": "c8ad29b31a187ba0",
   "outputs": [
    {
     "name": "stdout",
     "output_type": "stream",
     "text": [
      "[(1, 'Rajesh Retails', 'Delhi', '1234567890')]\n"
     ]
    }
   ],
   "execution_count": 147
  },
  {
   "metadata": {
    "ExecuteTime": {
     "end_time": "2024-09-22T14:26:03.444789Z",
     "start_time": "2024-09-22T14:26:03.423337Z"
    }
   },
   "cell_type": "code",
   "source": [
    "df = pd.DataFrame(output, columns=['SUPP_ID','SUPP_NAME','SUPP_CITY','SUPP_PHONE'])\n",
    "df\n"
   ],
   "id": "46683be2c26d3ab3",
   "outputs": [
    {
     "data": {
      "text/plain": [
       "   SUPP_ID       SUPP_NAME SUPP_CITY  SUPP_PHONE\n",
       "0        1  Rajesh Retails     Delhi  1234567890"
      ],
      "text/html": [
       "<div>\n",
       "<style scoped>\n",
       "    .dataframe tbody tr th:only-of-type {\n",
       "        vertical-align: middle;\n",
       "    }\n",
       "\n",
       "    .dataframe tbody tr th {\n",
       "        vertical-align: top;\n",
       "    }\n",
       "\n",
       "    .dataframe thead th {\n",
       "        text-align: right;\n",
       "    }\n",
       "</style>\n",
       "<table border=\"1\" class=\"dataframe\">\n",
       "  <thead>\n",
       "    <tr style=\"text-align: right;\">\n",
       "      <th></th>\n",
       "      <th>SUPP_ID</th>\n",
       "      <th>SUPP_NAME</th>\n",
       "      <th>SUPP_CITY</th>\n",
       "      <th>SUPP_PHONE</th>\n",
       "    </tr>\n",
       "  </thead>\n",
       "  <tbody>\n",
       "    <tr>\n",
       "      <th>0</th>\n",
       "      <td>1</td>\n",
       "      <td>Rajesh Retails</td>\n",
       "      <td>Delhi</td>\n",
       "      <td>1234567890</td>\n",
       "    </tr>\n",
       "  </tbody>\n",
       "</table>\n",
       "</div>"
      ]
     },
     "execution_count": 148,
     "metadata": {},
     "output_type": "execute_result"
    }
   ],
   "execution_count": 148
  },
  {
   "metadata": {},
   "cell_type": "code",
   "outputs": [],
   "execution_count": null,
   "source": "",
   "id": "dccd294e398cb26f"
  },
  {
   "metadata": {},
   "cell_type": "markdown",
   "source": "### Q6\n",
   "id": "b41d66a71bcbaab1"
  },
  {
   "metadata": {},
   "cell_type": "code",
   "outputs": [],
   "execution_count": null,
   "source": "### Q6) Find the category of the product whose order amount is minimum.\n",
   "id": "d20f52a91e363070"
  },
  {
   "metadata": {
    "ExecuteTime": {
     "end_time": "2024-09-22T14:31:17.169373Z",
     "start_time": "2024-09-22T14:31:17.162894Z"
    }
   },
   "cell_type": "code",
   "source": [
    "myquery = \"\"\"\n",
    "SELECT category.CAT_NAME\n",
    "FROM category\n",
    "JOIN product ON category.CAT_ID = product.CAT_ID\n",
    "JOIN product_details ON product.PRO_ID = product_details.PRO_ID\n",
    "JOIN orders ON product_details.PROD_ID = orders.PROD_ID\n",
    "WHERE orders.ORD_AMOUNT = (\n",
    "    SELECT MIN(ORD_AMOUNT)\n",
    "    FROM orders\n",
    ");\n",
    "\"\"\"\n"
   ],
   "id": "5c51a8f8c88c0bb0",
   "outputs": [],
   "execution_count": 149
  },
  {
   "metadata": {
    "ExecuteTime": {
     "end_time": "2024-09-22T14:31:20.010717Z",
     "start_time": "2024-09-22T14:31:20.003726Z"
    }
   },
   "cell_type": "code",
   "source": [
    "cursor = connection.cursor()\n",
    "cursor.execute(myquery)\n",
    "output = cursor.fetchall()\n"
   ],
   "id": "b1da0dadf2b64993",
   "outputs": [],
   "execution_count": 150
  },
  {
   "metadata": {
    "ExecuteTime": {
     "end_time": "2024-09-22T14:31:40.181847Z",
     "start_time": "2024-09-22T14:31:40.178019Z"
    }
   },
   "cell_type": "code",
   "source": "print(output)\n",
   "id": "5325505f23b5bf02",
   "outputs": [
    {
     "name": "stdout",
     "output_type": "stream",
     "text": [
      "[('GROCERIES',)]\n"
     ]
    }
   ],
   "execution_count": 151
  },
  {
   "metadata": {
    "ExecuteTime": {
     "end_time": "2024-09-22T14:32:15.430882Z",
     "start_time": "2024-09-22T14:32:15.420335Z"
    }
   },
   "cell_type": "code",
   "source": [
    "df = pd.DataFrame(output, columns=['category.CAT_NAME'])\n",
    "df.head()\n"
   ],
   "id": "2d337fcd035241ac",
   "outputs": [
    {
     "data": {
      "text/plain": [
       "  category.CAT_NAME\n",
       "0         GROCERIES"
      ],
      "text/html": [
       "<div>\n",
       "<style scoped>\n",
       "    .dataframe tbody tr th:only-of-type {\n",
       "        vertical-align: middle;\n",
       "    }\n",
       "\n",
       "    .dataframe tbody tr th {\n",
       "        vertical-align: top;\n",
       "    }\n",
       "\n",
       "    .dataframe thead th {\n",
       "        text-align: right;\n",
       "    }\n",
       "</style>\n",
       "<table border=\"1\" class=\"dataframe\">\n",
       "  <thead>\n",
       "    <tr style=\"text-align: right;\">\n",
       "      <th></th>\n",
       "      <th>category.CAT_NAME</th>\n",
       "    </tr>\n",
       "  </thead>\n",
       "  <tbody>\n",
       "    <tr>\n",
       "      <th>0</th>\n",
       "      <td>GROCERIES</td>\n",
       "    </tr>\n",
       "  </tbody>\n",
       "</table>\n",
       "</div>"
      ]
     },
     "execution_count": 152,
     "metadata": {},
     "output_type": "execute_result"
    }
   ],
   "execution_count": 152
  },
  {
   "metadata": {
    "ExecuteTime": {
     "end_time": "2024-09-22T14:34:33.865151Z",
     "start_time": "2024-09-22T14:34:33.860619Z"
    }
   },
   "cell_type": "code",
   "source": [
    "# Alternative Query Provided by the Faculty\n",
    "myquery = \"\"\"\n",
    "SELECT category.cat_id, category.cat_name, MIN(orders.ord_amount) AS min_order_amount\n",
    "FROM orders \n",
    "INNER JOIN product_details ON orders.prod_id = product_details.prod_id \n",
    "INNER JOIN product ON product.pro_id = product_details.pro_id \n",
    "INNER JOIN category ON category.cat_id = product.cat_id \n",
    "GROUP BY category.cat_id, category.cat_name;\n",
    "\"\"\"\n"
   ],
   "id": "81c378934123a907",
   "outputs": [],
   "execution_count": 153
  },
  {
   "metadata": {
    "ExecuteTime": {
     "end_time": "2024-09-22T14:34:36.206818Z",
     "start_time": "2024-09-22T14:34:36.201588Z"
    }
   },
   "cell_type": "code",
   "source": [
    "cursor = connection.cursor()\n",
    "cursor.execute(myquery)\n",
    "output = cursor.fetchall()\n"
   ],
   "id": "24cf85bc6340b15a",
   "outputs": [],
   "execution_count": 154
  },
  {
   "metadata": {
    "ExecuteTime": {
     "end_time": "2024-09-22T14:34:50.285607Z",
     "start_time": "2024-09-22T14:34:50.279909Z"
    }
   },
   "cell_type": "code",
   "source": "print(output)\n",
   "id": "94f42f8a4c34ca67",
   "outputs": [
    {
     "name": "stdout",
     "output_type": "stream",
     "text": [
      "[(1, 'BOOKS', 3500), (2, 'GAMES', 2000), (3, 'GROCERIES', 1500), (4, 'ELECTRONICS', 30500)]\n"
     ]
    }
   ],
   "execution_count": 155
  },
  {
   "metadata": {
    "ExecuteTime": {
     "end_time": "2024-09-22T14:37:32.232825Z",
     "start_time": "2024-09-22T14:37:32.227822Z"
    }
   },
   "cell_type": "code",
   "source": [
    "# Another Query from Faculty\n",
    "myquery = \"\"\"\n",
    "select category.* \n",
    "from `orders` inner join product_details on `orders`.prod_id=product_details.prod_id \n",
    "inner join product on product.pro_id=product_details.pro_id \n",
    "inner join category on category.cat_id=product.cat_id having min(`orders`.ord_amount);\n",
    "\"\"\"\n"
   ],
   "id": "e6dcd55d15b7ed00",
   "outputs": [],
   "execution_count": 156
  },
  {
   "metadata": {
    "ExecuteTime": {
     "end_time": "2024-09-22T14:37:50.874824Z",
     "start_time": "2024-09-22T14:37:50.869982Z"
    }
   },
   "cell_type": "code",
   "source": [
    "cursor = connection.cursor()\n",
    "cursor.execute(myquery)\n",
    "output = cursor.fetchall()\n"
   ],
   "id": "b3eff9a05439450",
   "outputs": [],
   "execution_count": 157
  },
  {
   "metadata": {
    "ExecuteTime": {
     "end_time": "2024-09-22T14:38:09.078859Z",
     "start_time": "2024-09-22T14:38:09.074748Z"
    }
   },
   "cell_type": "code",
   "source": "print(output)\n",
   "id": "51b664ea2b8ca121",
   "outputs": [
    {
     "name": "stdout",
     "output_type": "stream",
     "text": [
      "[(3, 'GROCERIES')]\n"
     ]
    }
   ],
   "execution_count": 158
  },
  {
   "metadata": {
    "ExecuteTime": {
     "end_time": "2024-09-22T14:39:22.652820Z",
     "start_time": "2024-09-22T14:39:22.648077Z"
    }
   },
   "cell_type": "code",
   "source": "df = pd.DataFrame(output, columns=['category.cat_id','category.cat_name'])\n",
   "id": "4d17299b942fea51",
   "outputs": [],
   "execution_count": 160
  },
  {
   "metadata": {
    "ExecuteTime": {
     "end_time": "2024-09-22T14:39:37.802705Z",
     "start_time": "2024-09-22T14:39:37.793038Z"
    }
   },
   "cell_type": "code",
   "source": "df.head()\n",
   "id": "deddd389bf6fc083",
   "outputs": [
    {
     "data": {
      "text/plain": [
       "   category.cat_id category.cat_name\n",
       "0                3         GROCERIES"
      ],
      "text/html": [
       "<div>\n",
       "<style scoped>\n",
       "    .dataframe tbody tr th:only-of-type {\n",
       "        vertical-align: middle;\n",
       "    }\n",
       "\n",
       "    .dataframe tbody tr th {\n",
       "        vertical-align: top;\n",
       "    }\n",
       "\n",
       "    .dataframe thead th {\n",
       "        text-align: right;\n",
       "    }\n",
       "</style>\n",
       "<table border=\"1\" class=\"dataframe\">\n",
       "  <thead>\n",
       "    <tr style=\"text-align: right;\">\n",
       "      <th></th>\n",
       "      <th>category.cat_id</th>\n",
       "      <th>category.cat_name</th>\n",
       "    </tr>\n",
       "  </thead>\n",
       "  <tbody>\n",
       "    <tr>\n",
       "      <th>0</th>\n",
       "      <td>3</td>\n",
       "      <td>GROCERIES</td>\n",
       "    </tr>\n",
       "  </tbody>\n",
       "</table>\n",
       "</div>"
      ]
     },
     "execution_count": 161,
     "metadata": {},
     "output_type": "execute_result"
    }
   ],
   "execution_count": 161
  },
  {
   "metadata": {},
   "cell_type": "code",
   "outputs": [],
   "execution_count": null,
   "source": "",
   "id": "45e19e6c5a9ad431"
  },
  {
   "metadata": {},
   "cell_type": "markdown",
   "source": "### Q7\n",
   "id": "433802e1a250d16a"
  },
  {
   "metadata": {},
   "cell_type": "code",
   "outputs": [],
   "execution_count": null,
   "source": "### Q7) Display the Id and Name of the Product ordered after “2021-10-05”.\n",
   "id": "cbf082b3f51dde18"
  },
  {
   "metadata": {
    "ExecuteTime": {
     "end_time": "2024-09-22T14:42:52.859247Z",
     "start_time": "2024-09-22T14:42:52.855325Z"
    }
   },
   "cell_type": "code",
   "source": [
    "myquery = \"\"\"\n",
    "SELECT product.PRO_ID, product.PRO_NAME\n",
    "FROM product\n",
    "JOIN product_details ON product.PRO_ID = product_details.PRO_ID\n",
    "JOIN orders ON product_details.PROD_ID = orders.PROD_ID\n",
    "WHERE orders.ORD_DATE > '2021-10-05';\n",
    "\"\"\"\n"
   ],
   "id": "e6d3752c3f186f14",
   "outputs": [],
   "execution_count": 162
  },
  {
   "metadata": {
    "ExecuteTime": {
     "end_time": "2024-09-22T14:42:55.007523Z",
     "start_time": "2024-09-22T14:42:55.001995Z"
    }
   },
   "cell_type": "code",
   "source": [
    "cursor = connection.cursor()\n",
    "cursor.execute(myquery)\n",
    "output = cursor.fetchall()\n"
   ],
   "id": "a93a5f8c3eedde76",
   "outputs": [],
   "execution_count": 163
  },
  {
   "metadata": {
    "ExecuteTime": {
     "end_time": "2024-09-22T14:43:14.189868Z",
     "start_time": "2024-09-22T14:43:14.185776Z"
    }
   },
   "cell_type": "code",
   "source": "print(output)\n",
   "id": "e4f2afbc7d153e7b",
   "outputs": [
    {
     "name": "stdout",
     "output_type": "stream",
     "text": [
      "[(4, 'OATS'), (1, 'GTA V')]\n"
     ]
    }
   ],
   "execution_count": 164
  },
  {
   "metadata": {
    "ExecuteTime": {
     "end_time": "2024-09-22T14:45:46.376763Z",
     "start_time": "2024-09-22T14:45:46.367662Z"
    }
   },
   "cell_type": "code",
   "source": [
    "df = pd.DataFrame(output, columns=['product.PRO_ID','product.PRO_NAME'])\n",
    "df.head()\n"
   ],
   "id": "24e5222464909949",
   "outputs": [
    {
     "data": {
      "text/plain": [
       "   product.PRO_ID product.PRO_NAME\n",
       "0               4             OATS\n",
       "1               1            GTA V"
      ],
      "text/html": [
       "<div>\n",
       "<style scoped>\n",
       "    .dataframe tbody tr th:only-of-type {\n",
       "        vertical-align: middle;\n",
       "    }\n",
       "\n",
       "    .dataframe tbody tr th {\n",
       "        vertical-align: top;\n",
       "    }\n",
       "\n",
       "    .dataframe thead th {\n",
       "        text-align: right;\n",
       "    }\n",
       "</style>\n",
       "<table border=\"1\" class=\"dataframe\">\n",
       "  <thead>\n",
       "    <tr style=\"text-align: right;\">\n",
       "      <th></th>\n",
       "      <th>product.PRO_ID</th>\n",
       "      <th>product.PRO_NAME</th>\n",
       "    </tr>\n",
       "  </thead>\n",
       "  <tbody>\n",
       "    <tr>\n",
       "      <th>0</th>\n",
       "      <td>4</td>\n",
       "      <td>OATS</td>\n",
       "    </tr>\n",
       "    <tr>\n",
       "      <th>1</th>\n",
       "      <td>1</td>\n",
       "      <td>GTA V</td>\n",
       "    </tr>\n",
       "  </tbody>\n",
       "</table>\n",
       "</div>"
      ]
     },
     "execution_count": 165,
     "metadata": {},
     "output_type": "execute_result"
    }
   ],
   "execution_count": 165
  },
  {
   "metadata": {},
   "cell_type": "code",
   "outputs": [],
   "execution_count": null,
   "source": "",
   "id": "549bc94e3110336a"
  },
  {
   "metadata": {},
   "cell_type": "markdown",
   "source": "### Q8",
   "id": "906d3eefee9a585c"
  },
  {
   "metadata": {},
   "cell_type": "code",
   "outputs": [],
   "execution_count": null,
   "source": "### Q8) Print the top 3 supplier name and id and rating on the basis of their rating along with the customer name who has given the rating.\n",
   "id": "32ee3f67fb47c816"
  },
  {
   "metadata": {
    "ExecuteTime": {
     "end_time": "2024-09-22T15:22:18.186093Z",
     "start_time": "2024-09-22T15:22:18.181404Z"
    }
   },
   "cell_type": "code",
   "source": [
    "myquery = \"\"\"\n",
    "SELECT supplier.SUPP_ID, supplier.SUPP_NAME, AVG(rating.RAT_RATSTARS) AS avg_rating, customer.CUS_NAME\n",
    "FROM supplier\n",
    "JOIN rating ON supplier.SUPP_ID = rating.SUPP_ID\n",
    "JOIN customer ON rating.CUS_ID = customer.CUS_ID\n",
    "GROUP BY supplier.SUPP_ID, supplier.SUPP_NAME\n",
    "ORDER BY avg_rating DESC\n",
    "LIMIT 3;\n",
    "\"\"\"\n"
   ],
   "id": "36ab3ba3bdcb0237",
   "outputs": [],
   "execution_count": 166
  },
  {
   "metadata": {
    "ExecuteTime": {
     "end_time": "2024-09-22T15:22:20.342807Z",
     "start_time": "2024-09-22T15:22:20.337132Z"
    }
   },
   "cell_type": "code",
   "source": [
    "cursor = connection.cursor()\n",
    "cursor.execute(myquery)\n",
    "output = cursor.fetchall()\n"
   ],
   "id": "e6fcfda028ac2ad8",
   "outputs": [],
   "execution_count": 167
  },
  {
   "metadata": {
    "ExecuteTime": {
     "end_time": "2024-09-22T15:22:40.330575Z",
     "start_time": "2024-09-22T15:22:40.326113Z"
    }
   },
   "cell_type": "code",
   "source": "print(output)\n",
   "id": "f619a2a91f8fcc50",
   "outputs": [
    {
     "name": "stdout",
     "output_type": "stream",
     "text": [
      "[(1, 'Rajesh Retails', Decimal('5.0000'), 'PULKIT'), (5, 'Mittal Ltd.', Decimal('4.0000'), 'MEGHA'), (2, 'Appario Ltd.', Decimal('4.0000'), 'AMAN')]\n"
     ]
    }
   ],
   "execution_count": 168
  },
  {
   "metadata": {
    "ExecuteTime": {
     "end_time": "2024-09-22T15:24:47.085495Z",
     "start_time": "2024-09-22T15:24:47.076530Z"
    }
   },
   "cell_type": "code",
   "source": [
    "df = pd.DataFrame(output, columns=['SUPPLIER_ID', 'SUPPLIER_NAME', 'AVG_Rating', 'CUSTOMER_NAME'])\n",
    "df\n"
   ],
   "id": "74c2aaf5a73a2c66",
   "outputs": [
    {
     "data": {
      "text/plain": [
       "   SUPPLIER_ID   SUPPLIER_NAME AVG_Rating CUSTOMER_NAME\n",
       "0            1  Rajesh Retails     5.0000        PULKIT\n",
       "1            5     Mittal Ltd.     4.0000         MEGHA\n",
       "2            2    Appario Ltd.     4.0000          AMAN"
      ],
      "text/html": [
       "<div>\n",
       "<style scoped>\n",
       "    .dataframe tbody tr th:only-of-type {\n",
       "        vertical-align: middle;\n",
       "    }\n",
       "\n",
       "    .dataframe tbody tr th {\n",
       "        vertical-align: top;\n",
       "    }\n",
       "\n",
       "    .dataframe thead th {\n",
       "        text-align: right;\n",
       "    }\n",
       "</style>\n",
       "<table border=\"1\" class=\"dataframe\">\n",
       "  <thead>\n",
       "    <tr style=\"text-align: right;\">\n",
       "      <th></th>\n",
       "      <th>SUPPLIER_ID</th>\n",
       "      <th>SUPPLIER_NAME</th>\n",
       "      <th>AVG_Rating</th>\n",
       "      <th>CUSTOMER_NAME</th>\n",
       "    </tr>\n",
       "  </thead>\n",
       "  <tbody>\n",
       "    <tr>\n",
       "      <th>0</th>\n",
       "      <td>1</td>\n",
       "      <td>Rajesh Retails</td>\n",
       "      <td>5.0000</td>\n",
       "      <td>PULKIT</td>\n",
       "    </tr>\n",
       "    <tr>\n",
       "      <th>1</th>\n",
       "      <td>5</td>\n",
       "      <td>Mittal Ltd.</td>\n",
       "      <td>4.0000</td>\n",
       "      <td>MEGHA</td>\n",
       "    </tr>\n",
       "    <tr>\n",
       "      <th>2</th>\n",
       "      <td>2</td>\n",
       "      <td>Appario Ltd.</td>\n",
       "      <td>4.0000</td>\n",
       "      <td>AMAN</td>\n",
       "    </tr>\n",
       "  </tbody>\n",
       "</table>\n",
       "</div>"
      ]
     },
     "execution_count": 169,
     "metadata": {},
     "output_type": "execute_result"
    }
   ],
   "execution_count": 169
  },
  {
   "metadata": {
    "ExecuteTime": {
     "end_time": "2024-09-22T15:27:04.201317Z",
     "start_time": "2024-09-22T15:27:04.196534Z"
    }
   },
   "cell_type": "code",
   "source": [
    "# Alternative Query as provided by Faculty\n",
    "myquery = \"\"\"\n",
    "select supplier.supp_id,supplier.supp_name,customer.cus_name,rating.rat_ratstars \n",
    "from rating inner join supplier on rating.supp_id=supplier.supp_id \n",
    "inner join customer on rating.cus_id=customer.cus_id order by rating.rat_ratstars desc limit 3;\n",
    "\"\"\"\n"
   ],
   "id": "829f23f6b93dffd2",
   "outputs": [],
   "execution_count": 170
  },
  {
   "metadata": {
    "ExecuteTime": {
     "end_time": "2024-09-22T15:27:06.508741Z",
     "start_time": "2024-09-22T15:27:06.502367Z"
    }
   },
   "cell_type": "code",
   "source": [
    "cursor = connection.cursor()\n",
    "cursor.execute(myquery)\n",
    "output = cursor.fetchall()\n"
   ],
   "id": "37c7e95f6536115c",
   "outputs": [],
   "execution_count": 171
  },
  {
   "metadata": {
    "ExecuteTime": {
     "end_time": "2024-09-22T15:27:18.286007Z",
     "start_time": "2024-09-22T15:27:18.282069Z"
    }
   },
   "cell_type": "code",
   "source": "print(output)\n",
   "id": "376523616a3d95d3",
   "outputs": [
    {
     "name": "stdout",
     "output_type": "stream",
     "text": [
      "[(1, 'Rajesh Retails', 'PULKIT', 5), (2, 'Appario Ltd.', 'AMAN', 4), (5, 'Mittal Ltd.', 'MEGHA', 4)]\n"
     ]
    }
   ],
   "execution_count": 172
  },
  {
   "metadata": {
    "ExecuteTime": {
     "end_time": "2024-09-22T15:29:19.739030Z",
     "start_time": "2024-09-22T15:29:19.728720Z"
    }
   },
   "cell_type": "code",
   "source": [
    "df = pd.DataFrame(output, columns=['Supplier_ID', 'Supplier_Name', 'CUS_NAME', 'Rating'])\n",
    "df.head()\n"
   ],
   "id": "b6564da10cca9d22",
   "outputs": [
    {
     "data": {
      "text/plain": [
       "   Supplier_ID   Supplier_Name CUS_NAME  Rating\n",
       "0            1  Rajesh Retails   PULKIT       5\n",
       "1            2    Appario Ltd.     AMAN       4\n",
       "2            5     Mittal Ltd.    MEGHA       4"
      ],
      "text/html": [
       "<div>\n",
       "<style scoped>\n",
       "    .dataframe tbody tr th:only-of-type {\n",
       "        vertical-align: middle;\n",
       "    }\n",
       "\n",
       "    .dataframe tbody tr th {\n",
       "        vertical-align: top;\n",
       "    }\n",
       "\n",
       "    .dataframe thead th {\n",
       "        text-align: right;\n",
       "    }\n",
       "</style>\n",
       "<table border=\"1\" class=\"dataframe\">\n",
       "  <thead>\n",
       "    <tr style=\"text-align: right;\">\n",
       "      <th></th>\n",
       "      <th>Supplier_ID</th>\n",
       "      <th>Supplier_Name</th>\n",
       "      <th>CUS_NAME</th>\n",
       "      <th>Rating</th>\n",
       "    </tr>\n",
       "  </thead>\n",
       "  <tbody>\n",
       "    <tr>\n",
       "      <th>0</th>\n",
       "      <td>1</td>\n",
       "      <td>Rajesh Retails</td>\n",
       "      <td>PULKIT</td>\n",
       "      <td>5</td>\n",
       "    </tr>\n",
       "    <tr>\n",
       "      <th>1</th>\n",
       "      <td>2</td>\n",
       "      <td>Appario Ltd.</td>\n",
       "      <td>AMAN</td>\n",
       "      <td>4</td>\n",
       "    </tr>\n",
       "    <tr>\n",
       "      <th>2</th>\n",
       "      <td>5</td>\n",
       "      <td>Mittal Ltd.</td>\n",
       "      <td>MEGHA</td>\n",
       "      <td>4</td>\n",
       "    </tr>\n",
       "  </tbody>\n",
       "</table>\n",
       "</div>"
      ]
     },
     "execution_count": 173,
     "metadata": {},
     "output_type": "execute_result"
    }
   ],
   "execution_count": 173
  },
  {
   "metadata": {},
   "cell_type": "code",
   "outputs": [],
   "execution_count": null,
   "source": "",
   "id": "e58c28744197def9"
  },
  {
   "metadata": {},
   "cell_type": "markdown",
   "source": "### Q9\n",
   "id": "4fbb074f9185bc6d"
  },
  {
   "metadata": {
    "ExecuteTime": {
     "end_time": "2024-09-22T15:32:05.381285Z",
     "start_time": "2024-09-22T15:32:05.375208Z"
    }
   },
   "cell_type": "code",
   "source": [
    "myquery = \"\"\"\n",
    "SELECT CUS_NAME, CUS_GENDER\n",
    "FROM customer\n",
    "WHERE CUS_NAME LIKE 'A%' OR CUS_NAME LIKE '%A';\n",
    "\"\"\"\n"
   ],
   "id": "56ea03aa7a9946ca",
   "outputs": [],
   "execution_count": 174
  },
  {
   "metadata": {
    "ExecuteTime": {
     "end_time": "2024-09-22T15:32:07.234924Z",
     "start_time": "2024-09-22T15:32:07.230051Z"
    }
   },
   "cell_type": "code",
   "source": [
    "cursor = connection.cursor()\n",
    "cursor.execute(myquery)\n",
    "output = cursor.fetchall()\n"
   ],
   "id": "c94398477d1d10b0",
   "outputs": [],
   "execution_count": 175
  },
  {
   "metadata": {
    "ExecuteTime": {
     "end_time": "2024-09-22T15:32:20.764521Z",
     "start_time": "2024-09-22T15:32:20.760949Z"
    }
   },
   "cell_type": "code",
   "source": "print(output)\n",
   "id": "b80a6d012c18943",
   "outputs": [
    {
     "name": "stdout",
     "output_type": "stream",
     "text": [
      "[('AAKASH', 'M'), ('AMAN', 'M'), ('NEHA', 'F'), ('MEGHA', 'F')]\n"
     ]
    }
   ],
   "execution_count": 176
  },
  {
   "metadata": {
    "ExecuteTime": {
     "end_time": "2024-09-22T15:32:45.796634Z",
     "start_time": "2024-09-22T15:32:45.787168Z"
    }
   },
   "cell_type": "code",
   "source": [
    "df = pd.DataFrame(output, columns=['CUS_NAME', 'CUS_GENDER'])\n",
    "df.head()\n"
   ],
   "id": "c842c80d247cb116",
   "outputs": [
    {
     "data": {
      "text/plain": [
       "  CUS_NAME CUS_GENDER\n",
       "0   AAKASH          M\n",
       "1     AMAN          M\n",
       "2     NEHA          F\n",
       "3    MEGHA          F"
      ],
      "text/html": [
       "<div>\n",
       "<style scoped>\n",
       "    .dataframe tbody tr th:only-of-type {\n",
       "        vertical-align: middle;\n",
       "    }\n",
       "\n",
       "    .dataframe tbody tr th {\n",
       "        vertical-align: top;\n",
       "    }\n",
       "\n",
       "    .dataframe thead th {\n",
       "        text-align: right;\n",
       "    }\n",
       "</style>\n",
       "<table border=\"1\" class=\"dataframe\">\n",
       "  <thead>\n",
       "    <tr style=\"text-align: right;\">\n",
       "      <th></th>\n",
       "      <th>CUS_NAME</th>\n",
       "      <th>CUS_GENDER</th>\n",
       "    </tr>\n",
       "  </thead>\n",
       "  <tbody>\n",
       "    <tr>\n",
       "      <th>0</th>\n",
       "      <td>AAKASH</td>\n",
       "      <td>M</td>\n",
       "    </tr>\n",
       "    <tr>\n",
       "      <th>1</th>\n",
       "      <td>AMAN</td>\n",
       "      <td>M</td>\n",
       "    </tr>\n",
       "    <tr>\n",
       "      <th>2</th>\n",
       "      <td>NEHA</td>\n",
       "      <td>F</td>\n",
       "    </tr>\n",
       "    <tr>\n",
       "      <th>3</th>\n",
       "      <td>MEGHA</td>\n",
       "      <td>F</td>\n",
       "    </tr>\n",
       "  </tbody>\n",
       "</table>\n",
       "</div>"
      ]
     },
     "execution_count": 177,
     "metadata": {},
     "output_type": "execute_result"
    }
   ],
   "execution_count": 177
  },
  {
   "metadata": {},
   "cell_type": "code",
   "outputs": [],
   "execution_count": null,
   "source": "",
   "id": "87fc6d721bcaa7d8"
  },
  {
   "metadata": {},
   "cell_type": "markdown",
   "source": "### Q10\n",
   "id": "6ad5e2dc6b70fc53"
  },
  {
   "metadata": {},
   "cell_type": "code",
   "outputs": [],
   "execution_count": null,
   "source": "### Q10) Display the total order amount of the male customers\n",
   "id": "5706ea9cb03b9348"
  },
  {
   "metadata": {
    "ExecuteTime": {
     "end_time": "2024-09-22T15:35:37.622267Z",
     "start_time": "2024-09-22T15:35:37.618465Z"
    }
   },
   "cell_type": "code",
   "source": [
    "myquery = \"\"\"\n",
    "SELECT SUM(orders.ORD_AMOUNT) AS total_order_amount\n",
    "FROM orders\n",
    "JOIN customer ON orders.CUS_ID = customer.CUS_ID\n",
    "WHERE customer.CUS_GENDER = 'M';\n",
    "\"\"\"\n"
   ],
   "id": "10c2be6e1e9e444b",
   "outputs": [],
   "execution_count": 178
  },
  {
   "metadata": {
    "ExecuteTime": {
     "end_time": "2024-09-22T15:35:51.902431Z",
     "start_time": "2024-09-22T15:35:51.896724Z"
    }
   },
   "cell_type": "code",
   "source": [
    "cursor = connection.cursor()\n",
    "cursor.execute(myquery)\n",
    "output = cursor.fetchall()\n"
   ],
   "id": "332079009757a127",
   "outputs": [],
   "execution_count": 179
  },
  {
   "metadata": {
    "ExecuteTime": {
     "end_time": "2024-09-22T15:36:10.995698Z",
     "start_time": "2024-09-22T15:36:10.991036Z"
    }
   },
   "cell_type": "code",
   "source": "print(output)\n",
   "id": "c7ac5fb44eda469b",
   "outputs": [
    {
     "name": "stdout",
     "output_type": "stream",
     "text": [
      "[(Decimal('34500'),)]\n"
     ]
    }
   ],
   "execution_count": 180
  },
  {
   "metadata": {
    "ExecuteTime": {
     "end_time": "2024-09-22T15:40:18.566406Z",
     "start_time": "2024-09-22T15:40:18.557989Z"
    }
   },
   "cell_type": "code",
   "source": [
    "df = pd.DataFrame(output, columns=['Amount'])\n",
    "df.head()\n"
   ],
   "id": "9f3744832c3bb1b3",
   "outputs": [
    {
     "data": {
      "text/plain": [
       "  Amount\n",
       "0  34500"
      ],
      "text/html": [
       "<div>\n",
       "<style scoped>\n",
       "    .dataframe tbody tr th:only-of-type {\n",
       "        vertical-align: middle;\n",
       "    }\n",
       "\n",
       "    .dataframe tbody tr th {\n",
       "        vertical-align: top;\n",
       "    }\n",
       "\n",
       "    .dataframe thead th {\n",
       "        text-align: right;\n",
       "    }\n",
       "</style>\n",
       "<table border=\"1\" class=\"dataframe\">\n",
       "  <thead>\n",
       "    <tr style=\"text-align: right;\">\n",
       "      <th></th>\n",
       "      <th>Amount</th>\n",
       "    </tr>\n",
       "  </thead>\n",
       "  <tbody>\n",
       "    <tr>\n",
       "      <th>0</th>\n",
       "      <td>34500</td>\n",
       "    </tr>\n",
       "  </tbody>\n",
       "</table>\n",
       "</div>"
      ]
     },
     "execution_count": 181,
     "metadata": {},
     "output_type": "execute_result"
    }
   ],
   "execution_count": 181
  },
  {
   "metadata": {},
   "cell_type": "code",
   "outputs": [],
   "execution_count": null,
   "source": "",
   "id": "8a388aeaad9ee449"
  },
  {
   "metadata": {},
   "cell_type": "markdown",
   "source": "### Q11\n",
   "id": "3d75f08ae6be9f0c"
  },
  {
   "metadata": {},
   "cell_type": "code",
   "outputs": [],
   "execution_count": null,
   "source": "### Q11) Display all the Customers left outer join with  the orders\n",
   "id": "154fb07febd37137"
  },
  {
   "metadata": {
    "ExecuteTime": {
     "end_time": "2024-09-22T15:43:16.928275Z",
     "start_time": "2024-09-22T15:43:16.924275Z"
    }
   },
   "cell_type": "code",
   "source": [
    "myquery = \"\"\"\n",
    "SELECT \n",
    "customer.CUS_ID, customer.CUS_NAME, customer.CUS_PHONE, customer.CUS_CITY, customer.CUS_GENDER, orders.ORD_ID, orders.ORD_AMOUNT, orders.ORD_DATE\n",
    "FROM customer\n",
    "LEFT JOIN orders ON customer.CUS_ID = orders.CUS_ID;\n",
    "\"\"\"\n"
   ],
   "id": "34784d6dfae83386",
   "outputs": [],
   "execution_count": 182
  },
  {
   "metadata": {
    "ExecuteTime": {
     "end_time": "2024-09-22T15:43:35.244029Z",
     "start_time": "2024-09-22T15:43:35.238083Z"
    }
   },
   "cell_type": "code",
   "source": [
    "cursor = connection.cursor()\n",
    "cursor.execute(myquery)\n",
    "output = cursor.fetchall()\n"
   ],
   "id": "81225f4e908c0b87",
   "outputs": [],
   "execution_count": 183
  },
  {
   "metadata": {
    "ExecuteTime": {
     "end_time": "2024-09-22T15:43:52.593766Z",
     "start_time": "2024-09-22T15:43:52.588036Z"
    }
   },
   "cell_type": "code",
   "source": "print(output)\n",
   "id": "3c818ea658ef5ae0",
   "outputs": [
    {
     "name": "stdout",
     "output_type": "stream",
     "text": [
      "[(3, 'NEHA', '9999999998', 'MUMBAI', 'F', 20, 1500, datetime.date(2021, 10, 12)), (5, 'PULKIT', '7895999999', 'LUCKNOW', 'M', 25, 30500, datetime.date(2021, 9, 16)), (1, 'AAKASH', '9999999999', 'DELHI', 'M', 26, 2000, datetime.date(2021, 10, 5)), (4, 'MEGHA', '9994562399', 'KOLKATA', 'F', 30, 3500, datetime.date(2021, 8, 16)), (2, 'AMAN', '9785463215', 'NOIDA', 'M', 50, 2000, datetime.date(2021, 10, 6))]\n"
     ]
    }
   ],
   "execution_count": 184
  },
  {
   "metadata": {
    "ExecuteTime": {
     "end_time": "2024-09-22T15:46:07.151916Z",
     "start_time": "2024-09-22T15:46:07.141072Z"
    }
   },
   "cell_type": "code",
   "source": [
    "df = pd.DataFrame(output, columns=['CUST_ID', 'CUST_NAME', 'PHONE', 'CITY', 'GENDER', 'ORD_ID', 'AMOUNT', 'ORD_DATE'])\n",
    "df\n"
   ],
   "id": "fe4b92f1e6e8b9c0",
   "outputs": [
    {
     "data": {
      "text/plain": [
       "   CUST_ID CUST_NAME       PHONE     CITY GENDER  ORD_ID  AMOUNT    ORD_DATE\n",
       "0        3      NEHA  9999999998   MUMBAI      F      20    1500  2021-10-12\n",
       "1        5    PULKIT  7895999999  LUCKNOW      M      25   30500  2021-09-16\n",
       "2        1    AAKASH  9999999999    DELHI      M      26    2000  2021-10-05\n",
       "3        4     MEGHA  9994562399  KOLKATA      F      30    3500  2021-08-16\n",
       "4        2      AMAN  9785463215    NOIDA      M      50    2000  2021-10-06"
      ],
      "text/html": [
       "<div>\n",
       "<style scoped>\n",
       "    .dataframe tbody tr th:only-of-type {\n",
       "        vertical-align: middle;\n",
       "    }\n",
       "\n",
       "    .dataframe tbody tr th {\n",
       "        vertical-align: top;\n",
       "    }\n",
       "\n",
       "    .dataframe thead th {\n",
       "        text-align: right;\n",
       "    }\n",
       "</style>\n",
       "<table border=\"1\" class=\"dataframe\">\n",
       "  <thead>\n",
       "    <tr style=\"text-align: right;\">\n",
       "      <th></th>\n",
       "      <th>CUST_ID</th>\n",
       "      <th>CUST_NAME</th>\n",
       "      <th>PHONE</th>\n",
       "      <th>CITY</th>\n",
       "      <th>GENDER</th>\n",
       "      <th>ORD_ID</th>\n",
       "      <th>AMOUNT</th>\n",
       "      <th>ORD_DATE</th>\n",
       "    </tr>\n",
       "  </thead>\n",
       "  <tbody>\n",
       "    <tr>\n",
       "      <th>0</th>\n",
       "      <td>3</td>\n",
       "      <td>NEHA</td>\n",
       "      <td>9999999998</td>\n",
       "      <td>MUMBAI</td>\n",
       "      <td>F</td>\n",
       "      <td>20</td>\n",
       "      <td>1500</td>\n",
       "      <td>2021-10-12</td>\n",
       "    </tr>\n",
       "    <tr>\n",
       "      <th>1</th>\n",
       "      <td>5</td>\n",
       "      <td>PULKIT</td>\n",
       "      <td>7895999999</td>\n",
       "      <td>LUCKNOW</td>\n",
       "      <td>M</td>\n",
       "      <td>25</td>\n",
       "      <td>30500</td>\n",
       "      <td>2021-09-16</td>\n",
       "    </tr>\n",
       "    <tr>\n",
       "      <th>2</th>\n",
       "      <td>1</td>\n",
       "      <td>AAKASH</td>\n",
       "      <td>9999999999</td>\n",
       "      <td>DELHI</td>\n",
       "      <td>M</td>\n",
       "      <td>26</td>\n",
       "      <td>2000</td>\n",
       "      <td>2021-10-05</td>\n",
       "    </tr>\n",
       "    <tr>\n",
       "      <th>3</th>\n",
       "      <td>4</td>\n",
       "      <td>MEGHA</td>\n",
       "      <td>9994562399</td>\n",
       "      <td>KOLKATA</td>\n",
       "      <td>F</td>\n",
       "      <td>30</td>\n",
       "      <td>3500</td>\n",
       "      <td>2021-08-16</td>\n",
       "    </tr>\n",
       "    <tr>\n",
       "      <th>4</th>\n",
       "      <td>2</td>\n",
       "      <td>AMAN</td>\n",
       "      <td>9785463215</td>\n",
       "      <td>NOIDA</td>\n",
       "      <td>M</td>\n",
       "      <td>50</td>\n",
       "      <td>2000</td>\n",
       "      <td>2021-10-06</td>\n",
       "    </tr>\n",
       "  </tbody>\n",
       "</table>\n",
       "</div>"
      ]
     },
     "execution_count": 185,
     "metadata": {},
     "output_type": "execute_result"
    }
   ],
   "execution_count": 185
  },
  {
   "metadata": {},
   "cell_type": "code",
   "outputs": [],
   "execution_count": null,
   "source": "# Alternative Query as provided by Faculty\n",
   "id": "49eeefbf61bec51a"
  },
  {
   "metadata": {
    "ExecuteTime": {
     "end_time": "2024-09-22T15:49:35.052908Z",
     "start_time": "2024-09-22T15:49:35.049282Z"
    }
   },
   "cell_type": "code",
   "source": [
    "myquery = \"\"\"\n",
    "select *  from customer left outer join `orders` on customer.cus_id=`orders`.cus_id;\n",
    "\"\"\"\n"
   ],
   "id": "677c5f851537404b",
   "outputs": [],
   "execution_count": 186
  },
  {
   "metadata": {
    "ExecuteTime": {
     "end_time": "2024-09-22T15:49:54.282490Z",
     "start_time": "2024-09-22T15:49:54.276241Z"
    }
   },
   "cell_type": "code",
   "source": [
    "cursor = connection.cursor()\n",
    "cursor.execute(myquery)\n",
    "output = cursor.fetchall()\n"
   ],
   "id": "8c6a2fdfbb6328db",
   "outputs": [],
   "execution_count": 187
  },
  {
   "metadata": {
    "ExecuteTime": {
     "end_time": "2024-09-22T15:50:07.885565Z",
     "start_time": "2024-09-22T15:50:07.880357Z"
    }
   },
   "cell_type": "code",
   "source": "print(output)\n",
   "id": "adc22439b5bb92a6",
   "outputs": [
    {
     "name": "stdout",
     "output_type": "stream",
     "text": [
      "[(3, 'NEHA', '9999999998', 'MUMBAI', 'F', 20, 1500, datetime.date(2021, 10, 12), 3, 5), (5, 'PULKIT', '7895999999', 'LUCKNOW', 'M', 25, 30500, datetime.date(2021, 9, 16), 5, 2), (1, 'AAKASH', '9999999999', 'DELHI', 'M', 26, 2000, datetime.date(2021, 10, 5), 1, 1), (4, 'MEGHA', '9994562399', 'KOLKATA', 'F', 30, 3500, datetime.date(2021, 8, 16), 4, 3), (2, 'AMAN', '9785463215', 'NOIDA', 'M', 50, 2000, datetime.date(2021, 10, 6), 2, 1)]\n"
     ]
    }
   ],
   "execution_count": 188
  },
  {
   "metadata": {
    "ExecuteTime": {
     "end_time": "2024-09-22T15:51:26.666559Z",
     "start_time": "2024-09-22T15:51:26.654805Z"
    }
   },
   "cell_type": "code",
   "source": [
    "df = pd.DataFrame(output, columns=['CUS_ID','CUS_NAME','CUS_PHONE','CUS_CITY','CUS_GENDER','ORD_ID','ORD_AMOUNT','ORD_DATE','CUS_ID','PROD_ID'])\n",
    "df\n"
   ],
   "id": "5ab4a2fd80f298de",
   "outputs": [
    {
     "data": {
      "text/plain": [
       "   CUS_ID CUS_NAME   CUS_PHONE CUS_CITY CUS_GENDER  ORD_ID  ORD_AMOUNT  \\\n",
       "0       3     NEHA  9999999998   MUMBAI          F      20        1500   \n",
       "1       5   PULKIT  7895999999  LUCKNOW          M      25       30500   \n",
       "2       1   AAKASH  9999999999    DELHI          M      26        2000   \n",
       "3       4    MEGHA  9994562399  KOLKATA          F      30        3500   \n",
       "4       2     AMAN  9785463215    NOIDA          M      50        2000   \n",
       "\n",
       "     ORD_DATE  CUS_ID  PROD_ID  \n",
       "0  2021-10-12       3        5  \n",
       "1  2021-09-16       5        2  \n",
       "2  2021-10-05       1        1  \n",
       "3  2021-08-16       4        3  \n",
       "4  2021-10-06       2        1  "
      ],
      "text/html": [
       "<div>\n",
       "<style scoped>\n",
       "    .dataframe tbody tr th:only-of-type {\n",
       "        vertical-align: middle;\n",
       "    }\n",
       "\n",
       "    .dataframe tbody tr th {\n",
       "        vertical-align: top;\n",
       "    }\n",
       "\n",
       "    .dataframe thead th {\n",
       "        text-align: right;\n",
       "    }\n",
       "</style>\n",
       "<table border=\"1\" class=\"dataframe\">\n",
       "  <thead>\n",
       "    <tr style=\"text-align: right;\">\n",
       "      <th></th>\n",
       "      <th>CUS_ID</th>\n",
       "      <th>CUS_NAME</th>\n",
       "      <th>CUS_PHONE</th>\n",
       "      <th>CUS_CITY</th>\n",
       "      <th>CUS_GENDER</th>\n",
       "      <th>ORD_ID</th>\n",
       "      <th>ORD_AMOUNT</th>\n",
       "      <th>ORD_DATE</th>\n",
       "      <th>CUS_ID</th>\n",
       "      <th>PROD_ID</th>\n",
       "    </tr>\n",
       "  </thead>\n",
       "  <tbody>\n",
       "    <tr>\n",
       "      <th>0</th>\n",
       "      <td>3</td>\n",
       "      <td>NEHA</td>\n",
       "      <td>9999999998</td>\n",
       "      <td>MUMBAI</td>\n",
       "      <td>F</td>\n",
       "      <td>20</td>\n",
       "      <td>1500</td>\n",
       "      <td>2021-10-12</td>\n",
       "      <td>3</td>\n",
       "      <td>5</td>\n",
       "    </tr>\n",
       "    <tr>\n",
       "      <th>1</th>\n",
       "      <td>5</td>\n",
       "      <td>PULKIT</td>\n",
       "      <td>7895999999</td>\n",
       "      <td>LUCKNOW</td>\n",
       "      <td>M</td>\n",
       "      <td>25</td>\n",
       "      <td>30500</td>\n",
       "      <td>2021-09-16</td>\n",
       "      <td>5</td>\n",
       "      <td>2</td>\n",
       "    </tr>\n",
       "    <tr>\n",
       "      <th>2</th>\n",
       "      <td>1</td>\n",
       "      <td>AAKASH</td>\n",
       "      <td>9999999999</td>\n",
       "      <td>DELHI</td>\n",
       "      <td>M</td>\n",
       "      <td>26</td>\n",
       "      <td>2000</td>\n",
       "      <td>2021-10-05</td>\n",
       "      <td>1</td>\n",
       "      <td>1</td>\n",
       "    </tr>\n",
       "    <tr>\n",
       "      <th>3</th>\n",
       "      <td>4</td>\n",
       "      <td>MEGHA</td>\n",
       "      <td>9994562399</td>\n",
       "      <td>KOLKATA</td>\n",
       "      <td>F</td>\n",
       "      <td>30</td>\n",
       "      <td>3500</td>\n",
       "      <td>2021-08-16</td>\n",
       "      <td>4</td>\n",
       "      <td>3</td>\n",
       "    </tr>\n",
       "    <tr>\n",
       "      <th>4</th>\n",
       "      <td>2</td>\n",
       "      <td>AMAN</td>\n",
       "      <td>9785463215</td>\n",
       "      <td>NOIDA</td>\n",
       "      <td>M</td>\n",
       "      <td>50</td>\n",
       "      <td>2000</td>\n",
       "      <td>2021-10-06</td>\n",
       "      <td>2</td>\n",
       "      <td>1</td>\n",
       "    </tr>\n",
       "  </tbody>\n",
       "</table>\n",
       "</div>"
      ]
     },
     "execution_count": 189,
     "metadata": {},
     "output_type": "execute_result"
    }
   ],
   "execution_count": 189
  },
  {
   "metadata": {
    "ExecuteTime": {
     "end_time": "2024-09-22T15:53:49.622427Z",
     "start_time": "2024-09-22T15:53:49.617412Z"
    }
   },
   "cell_type": "code",
   "source": [
    "cursor.close()\n",
    "connection.close()\n"
   ],
   "id": "83241b9aa20a8b0c",
   "outputs": [],
   "execution_count": 190
  },
  {
   "metadata": {},
   "cell_type": "code",
   "outputs": [],
   "execution_count": null,
   "source": "",
   "id": "8188dcc893f80397"
  },
  {
   "metadata": {},
   "cell_type": "code",
   "outputs": [],
   "execution_count": null,
   "source": "",
   "id": "84790d2984583bb9"
  },
  {
   "metadata": {},
   "cell_type": "markdown",
   "source": "### Lab-01 - Assignment - Concluded",
   "id": "d9582a7539cf6d75"
  }
 ],
 "metadata": {
  "kernelspec": {
   "display_name": "Python 3",
   "language": "python",
   "name": "python3"
  },
  "language_info": {
   "codemirror_mode": {
    "name": "ipython",
    "version": 2
   },
   "file_extension": ".py",
   "mimetype": "text/x-python",
   "name": "python",
   "nbconvert_exporter": "python",
   "pygments_lexer": "ipython2",
   "version": "2.7.6"
  }
 },
 "nbformat": 4,
 "nbformat_minor": 5
}
